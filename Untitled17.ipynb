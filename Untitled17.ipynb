{
  "nbformat": 4,
  "nbformat_minor": 0,
  "metadata": {
    "colab": {
      "provenance": [],
      "gpuType": "T4"
    },
    "kernelspec": {
      "name": "python3",
      "display_name": "Python 3"
    },
    "language_info": {
      "name": "python"
    },
    "accelerator": "GPU"
  },
  "cells": [
    {
      "cell_type": "code",
      "execution_count": null,
      "metadata": {
        "colab": {
          "base_uri": "https://localhost:8080/"
        },
        "id": "5LJrYv7cyAMD",
        "outputId": "e18b7ccb-9283-4e36-e06e-59a8815223ac"
      },
      "outputs": [
        {
          "output_type": "stream",
          "name": "stdout",
          "text": [
            "Mounted at /content/drive\n"
          ]
        }
      ],
      "source": [
        "from google.colab import drive\n",
        "drive.mount('/content/drive')"
      ]
    },
    {
      "cell_type": "code",
      "source": [
        "# Colab Cell 1: Data Loading and Preprocessing\n",
        "\n",
        "# Install necessary libraries if not already present (Colab usually has them)\n",
        "# !pip install tensorflow numpy pandas\n",
        "\n",
        "import tensorflow as tf\n",
        "from tensorflow.keras.preprocessing.text import Tokenizer\n",
        "from tensorflow.keras.preprocessing.sequence import pad_sequences\n",
        "from tensorflow.keras.utils import to_categorical\n",
        "import numpy as np\n",
        "import re\n",
        "import os # To check if file exists\n",
        "\n",
        "print(f\"TensorFlow version: {tf.__version__}\")\n",
        "\n",
        "# --- 1. Load the Text ---\n",
        "# >>> IMPORTANT: Replace 'your_text_file.txt' with the exact name of your uploaded file. <<<\n",
        "file_name = 'your_text_file.txt' # e.g., 'tinyshakespeare.txt', 'alice.txt'\n",
        "\n",
        "# Check if the file exists\n",
        "if not os.path.exists(file_name):\n",
        "    print(f\"Error: The file '{file_name}' was not found in the Colab session storage.\")\n",
        "    print(\"Please ensure you have uploaded it using the 'Files' tab on the left sidebar.\")\n",
        "    # You might want to stop execution here if the file is critical\n",
        "    # raise FileNotFoundError(f\"File not found: {file_name}\")\n",
        "\n",
        "try:\n",
        "    with open(file_name, 'r', encoding='utf-8') as file:\n",
        "        raw_text = file.read()\n",
        "    print(f\"Successfully loaded text from '{file_name}'. Length: {len(raw_text)} characters.\")\n",
        "except Exception as e:\n",
        "    print(f\"An error occurred while reading the file: {e}\")\n",
        "    # Consider exiting or handling the error if loading fails\n",
        "    exit()\n",
        "\n",
        "# --- 2. Clean It Up ---\n",
        "print(\"\\nCleaning text...\")\n",
        "cleaned_text = raw_text.lower() # Convert all text to lowercase\n",
        "\n",
        "# Remove anything that's not a letter, space, or basic punctuation.\n",
        "# Keeping some punctuation can help with coherence for better models.\n",
        "# For simplicity, let's allow letters, spaces, and basic sentence-ending punctuation.\n",
        "cleaned_text = re.sub(r'[^a-z\\s.,!?]', '', cleaned_text)\n",
        "# Replace multiple spaces with a single space\n",
        "cleaned_text = re.sub(r'\\s+', ' ', cleaned_text).strip()\n",
        "print(f\"Cleaned text (first 500 chars): {cleaned_text[:500]}...\")\n",
        "print(f\"Cleaned text length: {len(cleaned_text)} characters.\")\n",
        "\n",
        "\n",
        "# --- 3. Turn Words into Numbers (Tokenization) ---\n",
        "print(\"\\nTokenizing words...\")\n",
        "tokenizer = Tokenizer()\n",
        "tokenizer.fit_on_texts([cleaned_text]) # Let the tokenizer learn all unique words\n",
        "\n",
        "word_to_id = tokenizer.word_index # Your word-to-number mapping\n",
        "id_to_word = {v: k for k, v in word_to_id.items()} # Your number-to-word mapping\n",
        "total_words = len(word_to_id) + 1 # Total unique words (+1 for potential OOV or padding)\n",
        "\n",
        "# Convert your entire text into a sequence of numbers\n",
        "numbered_text = tokenizer.texts_sequences([cleaned_text])[0]\n",
        "print(f\"Total unique words (vocabulary size): {total_words - 1}\") # -1 because of the +1 for padding token\n",
        "print(f\"First 20 words as numbers: {numbered_text[:20]}\")\n",
        "\n",
        "\n",
        "# --- 4. Create \"Training Pairs\" (Sequences) ---\n",
        "print(\"\\nCreating training sequences...\")\n",
        "sequence_length = 50 # How many words the model \"sees\" at once to predict the next\n",
        "input_sequences = []\n",
        "\n",
        "# Ensure we have enough text to form at least one sequence\n",
        "if len(numbered_text) < sequence_length + 1:\n",
        "    print(f\"Error: Not enough text to create sequences. Minimum length needed: {sequence_length + 1} tokens.\")\n",
        "    print(f\"Current text length (in tokens): {len(numbered_text)}\")\n",
        "    print(\"Please use a larger text file or reduce 'sequence_length'.\")\n",
        "    # Exit or raise error if data is insufficient for training\n",
        "    exit()\n",
        "\n",
        "for i in range(len(numbered_text) - sequence_length):\n",
        "    # Input: sequence_length words, Output: the (sequence_length + 1)th word\n",
        "    input_seq = numbered_text[i : i + sequence_length]\n",
        "    output_word = numbered_text[i + sequence_length]\n",
        "    input_sequences.append(input_seq + [output_word]) # Store as [word1, ..., word_N, next_word]\n",
        "\n",
        "print(f\"Number of raw sequences created: {len(input_sequences)}\")\n",
        "\n",
        "# Make all sequences the same length (add zeros if needed at the beginning)\n",
        "# The maxlen will be sequence_length + 1 (input sequence + 1 target word)\n",
        "max_sequence_len = max([len(seq) for seq in input_sequences])\n",
        "padded_sequences = pad_sequences(input_sequences, maxlen=max_sequence_len, padding='pre')\n",
        "\n",
        "# Separate into X (input features) and y (what we want to predict)\n",
        "X = padded_sequences[:, :-1] # All columns except the last one (the input sequence)\n",
        "y = padded_sequences[:, -1]  # Only the last column (the word to predict)\n",
        "\n",
        "# Convert 'y' to a special format (one-hot encoding) for the model's output layer\n",
        "# This means for each word, it's represented as a vector of zeros with a '1' at its corresponding index\n",
        "y = to_categorical(y, num_classes=total_words)\n",
        "\n",
        "print(f\"Shape of X (inputs): {X.shape} (Number of sequences, Sequence length)\")\n",
        "print(f\"Shape of y (outputs): {y.shape} (Number of sequences, Vocabulary size)\")\n",
        "print(\"Data preprocessing complete!\")\n",
        "\n",
        "# You're now ready to define and train the LSTM model in the next cells."
      ],
      "metadata": {
        "colab": {
          "base_uri": "https://localhost:8080/",
          "height": 315
        },
        "id": "7WjFM6kJzJXi",
        "outputId": "3a459541-2973-4fcb-a7d4-2e83b0f3831c"
      },
      "execution_count": null,
      "outputs": [
        {
          "output_type": "stream",
          "name": "stdout",
          "text": [
            "TensorFlow version: 2.18.0\n",
            "Error: The file 'your_text_file.txt' was not found in the Colab session storage.\n",
            "Please ensure you have uploaded it using the 'Files' tab on the left sidebar.\n",
            "An error occurred while reading the file: [Errno 2] No such file or directory: 'your_text_file.txt'\n",
            "\n",
            "Cleaning text...\n"
          ]
        },
        {
          "output_type": "error",
          "ename": "NameError",
          "evalue": "name 'raw_text' is not defined",
          "traceback": [
            "\u001b[0;31m---------------------------------------------------------------------------\u001b[0m",
            "\u001b[0;31mNameError\u001b[0m                                 Traceback (most recent call last)",
            "\u001b[0;32m/tmp/ipython-input-2-1542584880.py\u001b[0m in \u001b[0;36m<cell line: 0>\u001b[0;34m()\u001b[0m\n\u001b[1;32m     36\u001b[0m \u001b[0;31m# --- 2. Clean It Up ---\u001b[0m\u001b[0;34m\u001b[0m\u001b[0;34m\u001b[0m\u001b[0m\n\u001b[1;32m     37\u001b[0m \u001b[0mprint\u001b[0m\u001b[0;34m(\u001b[0m\u001b[0;34m\"\\nCleaning text...\"\u001b[0m\u001b[0;34m)\u001b[0m\u001b[0;34m\u001b[0m\u001b[0;34m\u001b[0m\u001b[0m\n\u001b[0;32m---> 38\u001b[0;31m \u001b[0mcleaned_text\u001b[0m \u001b[0;34m=\u001b[0m \u001b[0mraw_text\u001b[0m\u001b[0;34m.\u001b[0m\u001b[0mlower\u001b[0m\u001b[0;34m(\u001b[0m\u001b[0;34m)\u001b[0m \u001b[0;31m# Convert all text to lowercase\u001b[0m\u001b[0;34m\u001b[0m\u001b[0;34m\u001b[0m\u001b[0m\n\u001b[0m\u001b[1;32m     39\u001b[0m \u001b[0;34m\u001b[0m\u001b[0m\n\u001b[1;32m     40\u001b[0m \u001b[0;31m# Remove anything that's not a letter, space, or basic punctuation.\u001b[0m\u001b[0;34m\u001b[0m\u001b[0;34m\u001b[0m\u001b[0m\n",
            "\u001b[0;31mNameError\u001b[0m: name 'raw_text' is not defined"
          ]
        }
      ]
    },
    {
      "cell_type": "code",
      "source": [
        "!pip install transformers torch"
      ],
      "metadata": {
        "colab": {
          "base_uri": "https://localhost:8080/"
        },
        "id": "bf0OMm3izfpm",
        "outputId": "24697cc1-91bb-4e4f-dad0-58e95d3639e3"
      },
      "execution_count": null,
      "outputs": [
        {
          "output_type": "stream",
          "name": "stdout",
          "text": [
            "Requirement already satisfied: transformers in /usr/local/lib/python3.11/dist-packages (4.54.0)\n",
            "Requirement already satisfied: torch in /usr/local/lib/python3.11/dist-packages (2.6.0+cu124)\n",
            "Requirement already satisfied: filelock in /usr/local/lib/python3.11/dist-packages (from transformers) (3.18.0)\n",
            "Requirement already satisfied: huggingface-hub<1.0,>=0.34.0 in /usr/local/lib/python3.11/dist-packages (from transformers) (0.34.1)\n",
            "Requirement already satisfied: numpy>=1.17 in /usr/local/lib/python3.11/dist-packages (from transformers) (2.0.2)\n",
            "Requirement already satisfied: packaging>=20.0 in /usr/local/lib/python3.11/dist-packages (from transformers) (25.0)\n",
            "Requirement already satisfied: pyyaml>=5.1 in /usr/local/lib/python3.11/dist-packages (from transformers) (6.0.2)\n",
            "Requirement already satisfied: regex!=2019.12.17 in /usr/local/lib/python3.11/dist-packages (from transformers) (2024.11.6)\n",
            "Requirement already satisfied: requests in /usr/local/lib/python3.11/dist-packages (from transformers) (2.32.3)\n",
            "Requirement already satisfied: tokenizers<0.22,>=0.21 in /usr/local/lib/python3.11/dist-packages (from transformers) (0.21.2)\n",
            "Requirement already satisfied: safetensors>=0.4.3 in /usr/local/lib/python3.11/dist-packages (from transformers) (0.5.3)\n",
            "Requirement already satisfied: tqdm>=4.27 in /usr/local/lib/python3.11/dist-packages (from transformers) (4.67.1)\n",
            "Requirement already satisfied: typing-extensions>=4.10.0 in /usr/local/lib/python3.11/dist-packages (from torch) (4.14.1)\n",
            "Requirement already satisfied: networkx in /usr/local/lib/python3.11/dist-packages (from torch) (3.5)\n",
            "Requirement already satisfied: jinja2 in /usr/local/lib/python3.11/dist-packages (from torch) (3.1.6)\n",
            "Requirement already satisfied: fsspec in /usr/local/lib/python3.11/dist-packages (from torch) (2025.3.0)\n",
            "Collecting nvidia-cuda-nvrtc-cu12==12.4.127 (from torch)\n",
            "  Downloading nvidia_cuda_nvrtc_cu12-12.4.127-py3-none-manylinux2014_x86_64.whl.metadata (1.5 kB)\n",
            "Collecting nvidia-cuda-runtime-cu12==12.4.127 (from torch)\n",
            "  Downloading nvidia_cuda_runtime_cu12-12.4.127-py3-none-manylinux2014_x86_64.whl.metadata (1.5 kB)\n",
            "Collecting nvidia-cuda-cupti-cu12==12.4.127 (from torch)\n",
            "  Downloading nvidia_cuda_cupti_cu12-12.4.127-py3-none-manylinux2014_x86_64.whl.metadata (1.6 kB)\n",
            "Collecting nvidia-cudnn-cu12==9.1.0.70 (from torch)\n",
            "  Downloading nvidia_cudnn_cu12-9.1.0.70-py3-none-manylinux2014_x86_64.whl.metadata (1.6 kB)\n",
            "Collecting nvidia-cublas-cu12==12.4.5.8 (from torch)\n",
            "  Downloading nvidia_cublas_cu12-12.4.5.8-py3-none-manylinux2014_x86_64.whl.metadata (1.5 kB)\n",
            "Collecting nvidia-cufft-cu12==11.2.1.3 (from torch)\n",
            "  Downloading nvidia_cufft_cu12-11.2.1.3-py3-none-manylinux2014_x86_64.whl.metadata (1.5 kB)\n",
            "Collecting nvidia-curand-cu12==10.3.5.147 (from torch)\n",
            "  Downloading nvidia_curand_cu12-10.3.5.147-py3-none-manylinux2014_x86_64.whl.metadata (1.5 kB)\n",
            "Collecting nvidia-cusolver-cu12==11.6.1.9 (from torch)\n",
            "  Downloading nvidia_cusolver_cu12-11.6.1.9-py3-none-manylinux2014_x86_64.whl.metadata (1.6 kB)\n",
            "Collecting nvidia-cusparse-cu12==12.3.1.170 (from torch)\n",
            "  Downloading nvidia_cusparse_cu12-12.3.1.170-py3-none-manylinux2014_x86_64.whl.metadata (1.6 kB)\n",
            "Requirement already satisfied: nvidia-cusparselt-cu12==0.6.2 in /usr/local/lib/python3.11/dist-packages (from torch) (0.6.2)\n",
            "Requirement already satisfied: nvidia-nccl-cu12==2.21.5 in /usr/local/lib/python3.11/dist-packages (from torch) (2.21.5)\n",
            "Requirement already satisfied: nvidia-nvtx-cu12==12.4.127 in /usr/local/lib/python3.11/dist-packages (from torch) (12.4.127)\n",
            "Collecting nvidia-nvjitlink-cu12==12.4.127 (from torch)\n",
            "  Downloading nvidia_nvjitlink_cu12-12.4.127-py3-none-manylinux2014_x86_64.whl.metadata (1.5 kB)\n",
            "Requirement already satisfied: triton==3.2.0 in /usr/local/lib/python3.11/dist-packages (from torch) (3.2.0)\n",
            "Requirement already satisfied: sympy==1.13.1 in /usr/local/lib/python3.11/dist-packages (from torch) (1.13.1)\n",
            "Requirement already satisfied: mpmath<1.4,>=1.1.0 in /usr/local/lib/python3.11/dist-packages (from sympy==1.13.1->torch) (1.3.0)\n",
            "Requirement already satisfied: hf-xet<2.0.0,>=1.1.3 in /usr/local/lib/python3.11/dist-packages (from huggingface-hub<1.0,>=0.34.0->transformers) (1.1.5)\n",
            "Requirement already satisfied: MarkupSafe>=2.0 in /usr/local/lib/python3.11/dist-packages (from jinja2->torch) (3.0.2)\n",
            "Requirement already satisfied: charset-normalizer<4,>=2 in /usr/local/lib/python3.11/dist-packages (from requests->transformers) (3.4.2)\n",
            "Requirement already satisfied: idna<4,>=2.5 in /usr/local/lib/python3.11/dist-packages (from requests->transformers) (3.10)\n",
            "Requirement already satisfied: urllib3<3,>=1.21.1 in /usr/local/lib/python3.11/dist-packages (from requests->transformers) (2.5.0)\n",
            "Requirement already satisfied: certifi>=2017.4.17 in /usr/local/lib/python3.11/dist-packages (from requests->transformers) (2025.7.14)\n",
            "Downloading nvidia_cublas_cu12-12.4.5.8-py3-none-manylinux2014_x86_64.whl (363.4 MB)\n",
            "\u001b[2K   \u001b[90m━━━━━━━━━━━━━━━━━━━━━━━━━━━━━━━━━━━━━━━━\u001b[0m \u001b[32m363.4/363.4 MB\u001b[0m \u001b[31m1.4 MB/s\u001b[0m eta \u001b[36m0:00:00\u001b[0m\n",
            "\u001b[?25hDownloading nvidia_cuda_cupti_cu12-12.4.127-py3-none-manylinux2014_x86_64.whl (13.8 MB)\n",
            "\u001b[2K   \u001b[90m━━━━━━━━━━━━━━━━━━━━━━━━━━━━━━━━━━━━━━━━\u001b[0m \u001b[32m13.8/13.8 MB\u001b[0m \u001b[31m126.3 MB/s\u001b[0m eta \u001b[36m0:00:00\u001b[0m\n",
            "\u001b[?25hDownloading nvidia_cuda_nvrtc_cu12-12.4.127-py3-none-manylinux2014_x86_64.whl (24.6 MB)\n",
            "\u001b[2K   \u001b[90m━━━━━━━━━━━━━━━━━━━━━━━━━━━━━━━━━━━━━━━━\u001b[0m \u001b[32m24.6/24.6 MB\u001b[0m \u001b[31m97.7 MB/s\u001b[0m eta \u001b[36m0:00:00\u001b[0m\n",
            "\u001b[?25hDownloading nvidia_cuda_runtime_cu12-12.4.127-py3-none-manylinux2014_x86_64.whl (883 kB)\n",
            "\u001b[2K   \u001b[90m━━━━━━━━━━━━━━━━━━━━━━━━━━━━━━━━━━━━━━━━\u001b[0m \u001b[32m883.7/883.7 kB\u001b[0m \u001b[31m65.3 MB/s\u001b[0m eta \u001b[36m0:00:00\u001b[0m\n",
            "\u001b[?25hDownloading nvidia_cudnn_cu12-9.1.0.70-py3-none-manylinux2014_x86_64.whl (664.8 MB)\n",
            "\u001b[2K   \u001b[90m━━━━━━━━━━━━━━━━━━━━━━━━━━━━━━━━━━━━━━━━\u001b[0m \u001b[32m664.8/664.8 MB\u001b[0m \u001b[31m2.1 MB/s\u001b[0m eta \u001b[36m0:00:00\u001b[0m\n",
            "\u001b[?25hDownloading nvidia_cufft_cu12-11.2.1.3-py3-none-manylinux2014_x86_64.whl (211.5 MB)\n",
            "\u001b[2K   \u001b[90m━━━━━━━━━━━━━━━━━━━━━━━━━━━━━━━━━━━━━━━━\u001b[0m \u001b[32m211.5/211.5 MB\u001b[0m \u001b[31m5.3 MB/s\u001b[0m eta \u001b[36m0:00:00\u001b[0m\n",
            "\u001b[?25hDownloading nvidia_curand_cu12-10.3.5.147-py3-none-manylinux2014_x86_64.whl (56.3 MB)\n",
            "\u001b[2K   \u001b[90m━━━━━━━━━━━━━━━━━━━━━━━━━━━━━━━━━━━━━━━━\u001b[0m \u001b[32m56.3/56.3 MB\u001b[0m \u001b[31m18.3 MB/s\u001b[0m eta \u001b[36m0:00:00\u001b[0m\n",
            "\u001b[?25hDownloading nvidia_cusolver_cu12-11.6.1.9-py3-none-manylinux2014_x86_64.whl (127.9 MB)\n",
            "\u001b[2K   \u001b[90m━━━━━━━━━━━━━━━━━━━━━━━━━━━━━━━━━━━━━━━━\u001b[0m \u001b[32m127.9/127.9 MB\u001b[0m \u001b[31m7.3 MB/s\u001b[0m eta \u001b[36m0:00:00\u001b[0m\n",
            "\u001b[?25hDownloading nvidia_cusparse_cu12-12.3.1.170-py3-none-manylinux2014_x86_64.whl (207.5 MB)\n",
            "\u001b[2K   \u001b[90m━━━━━━━━━━━━━━━━━━━━━━━━━━━━━━━━━━━━━━━━\u001b[0m \u001b[32m207.5/207.5 MB\u001b[0m \u001b[31m5.4 MB/s\u001b[0m eta \u001b[36m0:00:00\u001b[0m\n",
            "\u001b[?25hDownloading nvidia_nvjitlink_cu12-12.4.127-py3-none-manylinux2014_x86_64.whl (21.1 MB)\n",
            "\u001b[2K   \u001b[90m━━━━━━━━━━━━━━━━━━━━━━━━━━━━━━━━━━━━━━━━\u001b[0m \u001b[32m21.1/21.1 MB\u001b[0m \u001b[31m78.2 MB/s\u001b[0m eta \u001b[36m0:00:00\u001b[0m\n",
            "\u001b[?25hInstalling collected packages: nvidia-nvjitlink-cu12, nvidia-curand-cu12, nvidia-cufft-cu12, nvidia-cuda-runtime-cu12, nvidia-cuda-nvrtc-cu12, nvidia-cuda-cupti-cu12, nvidia-cublas-cu12, nvidia-cusparse-cu12, nvidia-cudnn-cu12, nvidia-cusolver-cu12\n",
            "  Attempting uninstall: nvidia-nvjitlink-cu12\n",
            "    Found existing installation: nvidia-nvjitlink-cu12 12.5.82\n",
            "    Uninstalling nvidia-nvjitlink-cu12-12.5.82:\n",
            "      Successfully uninstalled nvidia-nvjitlink-cu12-12.5.82\n",
            "  Attempting uninstall: nvidia-curand-cu12\n",
            "    Found existing installation: nvidia-curand-cu12 10.3.6.82\n",
            "    Uninstalling nvidia-curand-cu12-10.3.6.82:\n",
            "      Successfully uninstalled nvidia-curand-cu12-10.3.6.82\n",
            "  Attempting uninstall: nvidia-cufft-cu12\n",
            "    Found existing installation: nvidia-cufft-cu12 11.2.3.61\n",
            "    Uninstalling nvidia-cufft-cu12-11.2.3.61:\n",
            "      Successfully uninstalled nvidia-cufft-cu12-11.2.3.61\n",
            "  Attempting uninstall: nvidia-cuda-runtime-cu12\n",
            "    Found existing installation: nvidia-cuda-runtime-cu12 12.5.82\n",
            "    Uninstalling nvidia-cuda-runtime-cu12-12.5.82:\n",
            "      Successfully uninstalled nvidia-cuda-runtime-cu12-12.5.82\n",
            "  Attempting uninstall: nvidia-cuda-nvrtc-cu12\n",
            "    Found existing installation: nvidia-cuda-nvrtc-cu12 12.5.82\n",
            "    Uninstalling nvidia-cuda-nvrtc-cu12-12.5.82:\n",
            "      Successfully uninstalled nvidia-cuda-nvrtc-cu12-12.5.82\n",
            "  Attempting uninstall: nvidia-cuda-cupti-cu12\n",
            "    Found existing installation: nvidia-cuda-cupti-cu12 12.5.82\n",
            "    Uninstalling nvidia-cuda-cupti-cu12-12.5.82:\n",
            "      Successfully uninstalled nvidia-cuda-cupti-cu12-12.5.82\n",
            "  Attempting uninstall: nvidia-cublas-cu12\n",
            "    Found existing installation: nvidia-cublas-cu12 12.5.3.2\n",
            "    Uninstalling nvidia-cublas-cu12-12.5.3.2:\n",
            "      Successfully uninstalled nvidia-cublas-cu12-12.5.3.2\n",
            "  Attempting uninstall: nvidia-cusparse-cu12\n",
            "    Found existing installation: nvidia-cusparse-cu12 12.5.1.3\n",
            "    Uninstalling nvidia-cusparse-cu12-12.5.1.3:\n",
            "      Successfully uninstalled nvidia-cusparse-cu12-12.5.1.3\n",
            "  Attempting uninstall: nvidia-cudnn-cu12\n",
            "    Found existing installation: nvidia-cudnn-cu12 9.3.0.75\n",
            "    Uninstalling nvidia-cudnn-cu12-9.3.0.75:\n",
            "      Successfully uninstalled nvidia-cudnn-cu12-9.3.0.75\n",
            "  Attempting uninstall: nvidia-cusolver-cu12\n",
            "    Found existing installation: nvidia-cusolver-cu12 11.6.3.83\n",
            "    Uninstalling nvidia-cusolver-cu12-11.6.3.83:\n",
            "      Successfully uninstalled nvidia-cusolver-cu12-11.6.3.83\n",
            "Successfully installed nvidia-cublas-cu12-12.4.5.8 nvidia-cuda-cupti-cu12-12.4.127 nvidia-cuda-nvrtc-cu12-12.4.127 nvidia-cuda-runtime-cu12-12.4.127 nvidia-cudnn-cu12-9.1.0.70 nvidia-cufft-cu12-11.2.1.3 nvidia-curand-cu12-10.3.5.147 nvidia-cusolver-cu12-11.6.1.9 nvidia-cusparse-cu12-12.3.1.170 nvidia-nvjitlink-cu12-12.4.127\n"
          ]
        }
      ]
    },
    {
      "cell_type": "code",
      "source": [
        "# Colab Cell 1: Data Loading and Preprocessing\n",
        "\n",
        "# Install necessary libraries if not already present (Colab usually has them)\n",
        "# !pip install tensorflow numpy pandas\n",
        "\n",
        "import tensorflow as tf\n",
        "from tensorflow.keras.preprocessing.text import Tokenizer\n",
        "from tensorflow.keras.preprocessing.sequence import pad_sequences\n",
        "from tensorflow.keras.utils import to_categorical\n",
        "import numpy as np\n",
        "import re\n",
        "import os # To check if file exists\n",
        "\n",
        "print(f\"TensorFlow version: {tf.__version__}\")\n",
        "\n",
        "# --- 1. Load the Text ---\n",
        "# >>> IMPORTANT: Replace 'your_text_file.txt' with the exact name of your uploaded file. <<<\n",
        "file_name = 'your_text_file.txt' # e.g., 'tinyshakespeare.txt', 'alice.txt'\n",
        "\n",
        "# Check if the file exists\n",
        "if not os.path.exists(file_name):\n",
        "    print(f\"Error: The file '{file_name}' was not found in the Colab session storage.\")\n",
        "    print(\"Please ensure you have uploaded it using the 'Files' tab on the left sidebar.\")\n",
        "    # You might want to stop execution here if the file is critical\n",
        "    # raise FileNotFoundError(f\"File not found: {file_name}\")\n",
        "\n",
        "try:\n",
        "    with open(file_name, 'r', encoding='utf-8') as file:\n",
        "        raw_text = file.read()\n",
        "    print(f\"Successfully loaded text from '{file_name}'. Length: {len(raw_text)} characters.\")\n",
        "except Exception as e:\n",
        "    print(f\"An error occurred while reading the file: {e}\")\n",
        "    # Consider exiting or handling the error if loading fails\n",
        "    exit()\n",
        "\n",
        "# --- 2. Clean It Up ---\n",
        "print(\"\\nCleaning text...\")\n",
        "cleaned_text = raw_text.lower() # Convert all text to lowercase\n",
        "\n",
        "# Remove anything that's not a letter, space, or basic punctuation.\n",
        "# Keeping some punctuation can help with coherence for better models.\n",
        "# For simplicity, let's allow letters, spaces, and basic sentence-ending punctuation.\n",
        "cleaned_text = re.sub(r'[^a-z\\s.,!?]', '', cleaned_text)\n",
        "# Replace multiple spaces with a single space\n",
        "cleaned_text = re.sub(r'\\s+', ' ', cleaned_text).strip()\n",
        "print(f\"Cleaned text (first 500 chars): {cleaned_text[:500]}...\")\n",
        "print(f\"Cleaned text length: {len(cleaned_text)} characters.\")\n",
        "\n",
        "\n",
        "# --- 3. Turn Words into Numbers (Tokenization) ---\n",
        "print(\"\\nTokenizing words...\")\n",
        "tokenizer = Tokenizer()\n",
        "tokenizer.fit_on_texts([cleaned_text]) # Let the tokenizer learn all unique words\n",
        "\n",
        "word_to_id = tokenizer.word_index # Your word-to-number mapping\n",
        "id_to_word = {v: k for k, v in word_to_id.items()} # Your number-to-word mapping\n",
        "total_words = len(word_to_id) + 1 # Total unique words (+1 for potential OOV or padding)\n",
        "\n",
        "# Convert your entire text into a sequence of numbers\n",
        "numbered_text = tokenizer.texts_sequences([cleaned_text])[0]\n",
        "print(f\"Total unique words (vocabulary size): {total_words - 1}\") # -1 because of the +1 for padding token\n",
        "print(f\"First 20 words as numbers: {numbered_text[:20]}\")\n",
        "\n",
        "\n",
        "# --- 4. Create \"Training Pairs\" (Sequences) ---\n",
        "print(\"\\nCreating training sequences...\")\n",
        "sequence_length = 50 # How many words the model \"sees\" at once to predict the next\n",
        "input_sequences = []\n",
        "\n",
        "# Ensure we have enough text to form at least one sequence\n",
        "if len(numbered_text) < sequence_length + 1:\n",
        "    print(f\"Error: Not enough text to create sequences. Minimum length needed: {sequence_length + 1} tokens.\")\n",
        "    print(f\"Current text length (in tokens): {len(numbered_text)}\")\n",
        "    print(\"Please use a larger text file or reduce 'sequence_length'.\")\n",
        "    # Exit or raise error if data is insufficient for training\n",
        "    exit()\n",
        "\n",
        "for i in range(len(numbered_text) - sequence_length):\n",
        "    # Input: sequence_length words, Output: the (sequence_length + 1)th word\n",
        "    input_seq = numbered_text[i : i + sequence_length]\n",
        "    output_word = numbered_text[i + sequence_length]\n",
        "    input_sequences.append(input_seq + [output_word]) # Store as [word1, ..., word_N, next_word]\n",
        "\n",
        "print(f\"Number of raw sequences created: {len(input_sequences)}\")\n",
        "\n",
        "# Make all sequences the same length (add zeros if needed at the beginning)\n",
        "# The maxlen will be sequence_length + 1 (input sequence + 1 target word)\n",
        "max_sequence_len = max([len(seq) for seq in input_sequences])\n",
        "padded_sequences = pad_sequences(input_sequences, maxlen=max_sequence_len, padding='pre')\n",
        "\n",
        "# Separate into X (input features) and y (what we want to predict)\n",
        "X = padded_sequences[:, :-1] # All columns except the last one (the input sequence)\n",
        "y = padded_sequences[:, -1]  # Only the last column (the word to predict)\n",
        "\n",
        "# Convert 'y' to a special format (one-hot encoding) for the model's output layer\n",
        "# This means for each word, it's represented as a vector of zeros with a '1' at its corresponding index\n",
        "y = to_categorical(y, num_classes=total_words)\n",
        "\n",
        "print(f\"Shape of X (inputs): {X.shape} (Number of sequences, Sequence length)\")\n",
        "print(f\"Shape of y (outputs): {y.shape} (Number of sequences, Vocabulary size)\")\n",
        "print(\"Data preprocessing complete!\")\n",
        "# ... (rest of Colab Cell 1 code) ...\n",
        "\n",
        "print(\"Data preprocessing complete!\")\n",
        "\n",
        "# --- ADD THESE TWO LINES FOR DEBUGGING ---\n",
        "print(f\"DEBUG: X.shape before model definition: {X.shape}\")\n",
        "print(f\"DEBUG: X.dtype before model definition: {X.dtype}\")\n",
        "# --- END DEBUG LINES ---\n",
        "\n",
        "# You're now ready to define and train the LSTM model in the next cells."
      ],
      "metadata": {
        "colab": {
          "base_uri": "https://localhost:8080/",
          "height": 404
        },
        "id": "NZLZerRF0VZ3",
        "outputId": "4f8d396c-a11e-4bc5-e86c-b465758a5881"
      },
      "execution_count": null,
      "outputs": [
        {
          "output_type": "stream",
          "name": "stdout",
          "text": [
            "TensorFlow version: 2.18.0\n",
            "Error: The file 'your_text_file.txt' was not found in the Colab session storage.\n",
            "Please ensure you have uploaded it using the 'Files' tab on the left sidebar.\n",
            "An error occurred while reading the file: [Errno 2] No such file or directory: 'your_text_file.txt'\n",
            "\n",
            "Cleaning text...\n",
            "Cleaned text (first 500 chars): first citizen before we proceed any further, hear me speak. all speak, speak. first citizen you are all resolved rather to die than to famish? all resolved. resolved. first citizen first, you know caius marcius is chief enemy to the people. all we knowt, we knowt. first citizen let us kill him, and well have corn at our own price. ist a verdict? all no more talking ont let it be done away, away! second citizen one word, good citizens. first citizen we are accounted poor citizens, the patricians ...\n",
            "Cleaned text length: 5175 characters.\n",
            "\n",
            "Tokenizing words...\n"
          ]
        },
        {
          "output_type": "error",
          "ename": "AttributeError",
          "evalue": "'Tokenizer' object has no attribute 'texts_sequences'",
          "traceback": [
            "\u001b[0;31m---------------------------------------------------------------------------\u001b[0m",
            "\u001b[0;31mAttributeError\u001b[0m                            Traceback (most recent call last)",
            "\u001b[0;32m/tmp/ipython-input-7-2973079532.py\u001b[0m in \u001b[0;36m<cell line: 0>\u001b[0;34m()\u001b[0m\n\u001b[1;32m     58\u001b[0m \u001b[0;34m\u001b[0m\u001b[0m\n\u001b[1;32m     59\u001b[0m \u001b[0;31m# Convert your entire text into a sequence of numbers\u001b[0m\u001b[0;34m\u001b[0m\u001b[0;34m\u001b[0m\u001b[0m\n\u001b[0;32m---> 60\u001b[0;31m \u001b[0mnumbered_text\u001b[0m \u001b[0;34m=\u001b[0m \u001b[0mtokenizer\u001b[0m\u001b[0;34m.\u001b[0m\u001b[0mtexts_sequences\u001b[0m\u001b[0;34m(\u001b[0m\u001b[0;34m[\u001b[0m\u001b[0mcleaned_text\u001b[0m\u001b[0;34m]\u001b[0m\u001b[0;34m)\u001b[0m\u001b[0;34m[\u001b[0m\u001b[0;36m0\u001b[0m\u001b[0;34m]\u001b[0m\u001b[0;34m\u001b[0m\u001b[0;34m\u001b[0m\u001b[0m\n\u001b[0m\u001b[1;32m     61\u001b[0m \u001b[0mprint\u001b[0m\u001b[0;34m(\u001b[0m\u001b[0;34mf\"Total unique words (vocabulary size): {total_words - 1}\"\u001b[0m\u001b[0;34m)\u001b[0m \u001b[0;31m# -1 because of the +1 for padding token\u001b[0m\u001b[0;34m\u001b[0m\u001b[0;34m\u001b[0m\u001b[0m\n\u001b[1;32m     62\u001b[0m \u001b[0mprint\u001b[0m\u001b[0;34m(\u001b[0m\u001b[0;34mf\"First 20 words as numbers: {numbered_text[:20]}\"\u001b[0m\u001b[0;34m)\u001b[0m\u001b[0;34m\u001b[0m\u001b[0;34m\u001b[0m\u001b[0m\n",
            "\u001b[0;31mAttributeError\u001b[0m: 'Tokenizer' object has no attribute 'texts_sequences'"
          ]
        }
      ]
    },
    {
      "cell_type": "code",
      "source": [
        "file_name = 'tinyshakespeare.txt'"
      ],
      "metadata": {
        "id": "CBG3AM340s3c"
      },
      "execution_count": null,
      "outputs": []
    },
    {
      "cell_type": "code",
      "source": [
        "# Colab Cell 1: Data Loading and Preprocessing\n",
        "\n",
        "# Install necessary libraries if not already present (Colab usually has them)\n",
        "# !pip install tensorflow numpy pandas\n",
        "\n",
        "import tensorflow as tf\n",
        "from tensorflow.keras.preprocessing.text import Tokenizer\n",
        "from tensorflow.keras.preprocessing.sequence import pad_sequences\n",
        "from tensorflow.keras.utils import to_categorical\n",
        "import numpy as np\n",
        "import re\n",
        "import os # To check if file exists\n",
        "\n",
        "print(f\"TensorFlow version: {tf.__version__}\")\n",
        "\n",
        "# --- 1. Load the Text ---\n",
        "# >>> IMPORTANT: Replace 'your_text_file.txt' with the exact name of your uploaded file. <<<\n",
        "file_name = 'your_text_file.txt' # e.g., 'tinyshakespeare.txt', 'alice.txt'\n",
        "\n",
        "# Check if the file exists\n",
        "if not os.path.exists(file_name):\n",
        "    print(f\"Error: The file '{file_name}' was not found in the Colab session storage.\")\n",
        "    print(\"Please ensure you have uploaded it using the 'Files' tab on the left sidebar.\")\n",
        "    # You might want to stop execution here if the file is critical\n",
        "    # raise FileNotFoundError(f\"File not found: {file_name}\")\n",
        "\n",
        "try:\n",
        "    with open(file_name, 'r', encoding='utf-8') as file:\n",
        "        raw_text = file.read()\n",
        "    print(f\"Successfully loaded text from '{file_name}'. Length: {len(raw_text)} characters.\")\n",
        "except Exception as e:\n",
        "    print(f\"An error occurred while reading the file: {e}\")\n",
        "    # Consider exiting or handling the error if loading fails\n",
        "    exit()\n",
        "\n",
        "# --- 2. Clean It Up ---\n",
        "print(\"\\nCleaning text...\")\n",
        "cleaned_text = raw_text.lower() # Convert all text to lowercase\n",
        "\n",
        "# Remove anything that's not a letter, space, or basic punctuation.\n",
        "# Keeping some punctuation can help with coherence for better models.\n",
        "# For simplicity, let's allow letters, spaces, and basic sentence-ending punctuation.\n",
        "cleaned_text = re.sub(r'[^a-z\\s.,!?]', '', cleaned_text)\n",
        "# Replace multiple spaces with a single space\n",
        "cleaned_text = re.sub(r'\\s+', ' ', cleaned_text).strip()\n",
        "print(f\"Cleaned text (first 500 chars): {cleaned_text[:500]}...\")\n",
        "print(f\"Cleaned text length: {len(cleaned_text)} characters.\")\n",
        "\n",
        "\n",
        "# --- 3. Turn Words into Numbers (Tokenization) ---\n",
        "print(\"\\nTokenizing words...\")\n",
        "tokenizer = Tokenizer()\n",
        "tokenizer.fit_on_texts([cleaned_text]) # Let the tokenizer learn all unique words\n",
        "\n",
        "word_to_id = tokenizer.word_index # Your word-to-number mapping\n",
        "id_to_word = {v: k for k, v in word_to_id.items()} # Your number-to-word mapping\n",
        "total_words = len(word_to_id) + 1 # Total unique words (+1 for potential OOV or padding)\n",
        "\n",
        "# Convert your entire text into a sequence of numbers\n",
        "numbered_text = tokenizer.texts_sequences([cleaned_text])[0]\n",
        "print(f\"Total unique words (vocabulary size): {total_words - 1}\") # -1 because of the +1 for padding token\n",
        "print(f\"First 20 words as numbers: {numbered_text[:20]}\")\n",
        "\n",
        "\n",
        "# --- 4. Create \"Training Pairs\" (Sequences) ---\n",
        "print(\"\\nCreating training sequences...\")\n",
        "sequence_length = 50 # How many words the model \"sees\" at once to predict the next\n",
        "input_sequences = []\n",
        "\n",
        "# Ensure we have enough text to form at least one sequence\n",
        "if len(numbered_text) < sequence_length + 1:\n",
        "    print(f\"Error: Not enough text to create sequences. Minimum length needed: {sequence_length + 1} tokens.\")\n",
        "    print(f\"Current text length (in tokens): {len(numbered_text)}\")\n",
        "    print(\"Please use a larger text file or reduce 'sequence_length'.\")\n",
        "    # Exit or raise error if data is insufficient for training\n",
        "    exit()\n",
        "\n",
        "for i in range(len(numbered_text) - sequence_length):\n",
        "    # Input: sequence_length words, Output: the (sequence_length + 1)th word\n",
        "    input_seq = numbered_text[i : i + sequence_length]\n",
        "    output_word = numbered_text[i + sequence_length]\n",
        "    input_sequences.append(input_seq + [output_word]) # Store as [word1, ..., word_N, next_word]\n",
        "\n",
        "print(f\"Number of raw sequences created: {len(input_sequences)}\")\n",
        "\n",
        "# Make all sequences the same length (add zeros if needed at the beginning)\n",
        "# The maxlen will be sequence_length + 1 (input sequence + 1 target word)\n",
        "max_sequence_len = max([len(seq) for seq in input_sequences])\n",
        "padded_sequences = pad_sequences(input_sequences, maxlen=max_sequence_len, padding='pre')\n",
        "\n",
        "# Separate into X (input features) and y (what we want to predict)\n",
        "X = padded_sequences[:, :-1] # All columns except the last one (the input sequence)\n",
        "y = padded_sequences[:, -1]  # Only the last column (the word to predict)\n",
        "\n",
        "# Convert 'y' to a special format (one-hot encoding) for the model's output layer\n",
        "# This means for each word, it's represented as a vector of zeros with a '1' at its corresponding index\n",
        "y = to_categorical(y, num_classes=total_words)\n",
        "\n",
        "print(f\"Shape of X (inputs): {X.shape} (Number of sequences, Sequence length)\")\n",
        "print(f\"Shape of y (outputs): {y.shape} (Number of sequences, Vocabulary size)\")\n",
        "print(\"Data preprocessing complete!\")\n",
        "\n",
        "# You're now ready to define and train the LSTM model in the next cells."
      ],
      "metadata": {
        "colab": {
          "base_uri": "https://localhost:8080/",
          "height": 315
        },
        "id": "47eY9zGk1BUD",
        "outputId": "7b8eb72d-91f6-4e1d-ed7e-d573db7e845c"
      },
      "execution_count": null,
      "outputs": [
        {
          "output_type": "stream",
          "name": "stdout",
          "text": [
            "TensorFlow version: 2.18.0\n",
            "Error: The file 'your_text_file.txt' was not found in the Colab session storage.\n",
            "Please ensure you have uploaded it using the 'Files' tab on the left sidebar.\n",
            "An error occurred while reading the file: [Errno 2] No such file or directory: 'your_text_file.txt'\n",
            "\n",
            "Cleaning text...\n"
          ]
        },
        {
          "output_type": "error",
          "ename": "NameError",
          "evalue": "name 'raw_text' is not defined",
          "traceback": [
            "\u001b[0;31m---------------------------------------------------------------------------\u001b[0m",
            "\u001b[0;31mNameError\u001b[0m                                 Traceback (most recent call last)",
            "\u001b[0;32m/tmp/ipython-input-2-1542584880.py\u001b[0m in \u001b[0;36m<cell line: 0>\u001b[0;34m()\u001b[0m\n\u001b[1;32m     36\u001b[0m \u001b[0;31m# --- 2. Clean It Up ---\u001b[0m\u001b[0;34m\u001b[0m\u001b[0;34m\u001b[0m\u001b[0m\n\u001b[1;32m     37\u001b[0m \u001b[0mprint\u001b[0m\u001b[0;34m(\u001b[0m\u001b[0;34m\"\\nCleaning text...\"\u001b[0m\u001b[0;34m)\u001b[0m\u001b[0;34m\u001b[0m\u001b[0;34m\u001b[0m\u001b[0m\n\u001b[0;32m---> 38\u001b[0;31m \u001b[0mcleaned_text\u001b[0m \u001b[0;34m=\u001b[0m \u001b[0mraw_text\u001b[0m\u001b[0;34m.\u001b[0m\u001b[0mlower\u001b[0m\u001b[0;34m(\u001b[0m\u001b[0;34m)\u001b[0m \u001b[0;31m# Convert all text to lowercase\u001b[0m\u001b[0;34m\u001b[0m\u001b[0;34m\u001b[0m\u001b[0m\n\u001b[0m\u001b[1;32m     39\u001b[0m \u001b[0;34m\u001b[0m\u001b[0m\n\u001b[1;32m     40\u001b[0m \u001b[0;31m# Remove anything that's not a letter, space, or basic punctuation.\u001b[0m\u001b[0;34m\u001b[0m\u001b[0;34m\u001b[0m\u001b[0m\n",
            "\u001b[0;31mNameError\u001b[0m: name 'raw_text' is not defined"
          ]
        }
      ]
    },
    {
      "cell_type": "code",
      "source": [
        "# Colab Cell 1: Data Loading and Preprocessing\n",
        "\n",
        "# Install necessary libraries if not already present (Colab usually has them)\n",
        "# !pip install tensorflow numpy pandas\n",
        "\n",
        "import tensorflow as tf\n",
        "from tensorflow.keras.preprocessing.text import Tokenizer\n",
        "from tensorflow.keras.preprocessing.sequence import pad_sequences\n",
        "from tensorflow.keras.utils import to_categorical\n",
        "import numpy as np\n",
        "import re\n",
        "import os # To check if file exists\n",
        "\n",
        "print(f\"TensorFlow version: {tf.__version__}\")\n",
        "\n",
        "# --- 1. Load the Text ---\n",
        "# >>> IMPORTANT: Replace 'your_text_file.txt' with the exact name of your uploaded file. <<<\n",
        "file_name = 'tinyshakespeare.txt' # e.g., 'tinyshakespeare.txt', 'alice.txt'\n",
        "\n",
        "# Check if the file exists\n",
        "if not os.path.exists(file_name):\n",
        "    print(f\"Error: The file '{file_name}' was not found in the Colab session storage.\")\n",
        "    print(\"Please ensure you have uploaded it using the 'Files' tab on the left sidebar.\")\n",
        "    # You might want to stop execution here if the file is critical\n",
        "    # raise FileNotFoundError(f\"File not found: {file_name}\")\n",
        "\n",
        "try:\n",
        "    with open(file_name, 'r', encoding='utf-8') as file:\n",
        "        raw_text = file.read()\n",
        "    print(f\"Successfully loaded text from '{file_name}'. Length: {len(raw_text)} characters.\")\n",
        "except Exception as e:\n",
        "    print(f\"An error occurred while reading the file: {e}\")\n",
        "    # Consider exiting or handling the error if loading fails\n",
        "    exit()\n",
        "\n",
        "# --- 2. Clean It Up ---\n",
        "print(\"\\nCleaning text...\")\n",
        "cleaned_text = raw_text.lower() # Convert all text to lowercase\n",
        "\n",
        "# Remove anything that's not a letter, space, or basic punctuation.\n",
        "# Keeping some punctuation can help with coherence for better models.\n",
        "# For simplicity, let's allow letters, spaces, and basic sentence-ending punctuation.\n",
        "cleaned_text = re.sub(r'[^a-z\\s.,!?]', '', cleaned_text)\n",
        "# Replace multiple spaces with a single space\n",
        "cleaned_text = re.sub(r'\\s+', ' ', cleaned_text).strip()\n",
        "print(f\"Cleaned text (first 500 chars): {cleaned_text[:500]}...\")\n",
        "print(f\"Cleaned text length: {len(cleaned_text)} characters.\")\n",
        "\n",
        "\n",
        "# --- 3. Turn Words into Numbers (Tokenization) ---\n",
        "print(\"\\nTokenizing words...\")\n",
        "tokenizer = Tokenizer()\n",
        "tokenizer.fit_on_texts([cleaned_text]) # Let the tokenizer learn all unique words\n",
        "\n",
        "word_to_id = tokenizer.word_index # Your word-to-number mapping\n",
        "id_to_word = {v: k for k, v in word_to_id.items()} # Your number-to-word mapping\n",
        "total_words = len(word_to_id) + 1 # Total unique words (+1 for potential OOV or padding)\n",
        "\n",
        "# Convert your entire text into a sequence of numbers\n",
        "numbered_text = tokenizer.texts_to_sequences([cleaned_text])[0]\n",
        "print(f\"Total unique words (vocabulary size): {total_words - 1}\") # -1 because of the +1 for padding token\n",
        "print(f\"First 20 words as numbers: {numbered_text[:20]}\")\n",
        "\n",
        "\n",
        "# --- 4. Create \"Training Pairs\" (Sequences) ---\n",
        "print(\"\\nCreating training sequences...\")\n",
        "sequence_length = 50 # How many words the model \"sees\" at once to predict the next\n",
        "input_sequences = []\n",
        "\n",
        "# Ensure we have enough text to form at least one sequence\n",
        "if len(numbered_text) < sequence_length + 1:\n",
        "    print(f\"Error: Not enough text to create sequences. Minimum length needed: {sequence_length + 1} tokens.\")\n",
        "    print(f\"Current text length (in tokens): {len(numbered_text)}\")\n",
        "    print(\"Please use a larger text file or reduce 'sequence_length'.\")\n",
        "    # Exit or raise error if data is insufficient for training\n",
        "    exit()\n",
        "\n",
        "for i in range(len(numbered_text) - sequence_length):\n",
        "    # Input: sequence_length words, Output: the (sequence_length + 1)th word\n",
        "    input_seq = numbered_text[i : i + sequence_length]\n",
        "    output_word = numbered_text[i + sequence_length]\n",
        "    input_sequences.append(input_seq + [output_word]) # Store as [word1, ..., word_N, next_word]\n",
        "\n",
        "print(f\"Number of raw sequences created: {len(input_sequences)}\")\n",
        "\n",
        "# Make all sequences the same length (add zeros if needed at the beginning)\n",
        "# The maxlen will be sequence_length + 1 (input sequence + 1 target word)\n",
        "max_sequence_len = max([len(seq) for seq in input_sequences])\n",
        "padded_sequences = pad_sequences(input_sequences, maxlen=max_sequence_len, padding='pre')\n",
        "\n",
        "# Separate into X (input features) and y (what we want to predict)\n",
        "X = padded_sequences[:, :-1] # All columns except the last one (the input sequence)\n",
        "y = padded_sequences[:, -1]  # Only the last column (the word to predict)\n",
        "\n",
        "# Convert 'y' to a special format (one-hot encoding) for the model's output layer\n",
        "# This means for each word, it's represented as a vector of zeros with a '1' at its corresponding index\n",
        "y = to_categorical(y, num_classes=total_words)\n",
        "\n",
        "print(f\"Shape of X (inputs): {X.shape} (Number of sequences, Sequence length)\")\n",
        "print(f\"Shape of y (outputs): {y.shape} (Number of sequences, Vocabulary size)\")\n",
        "print(\"Data preprocessing complete!\")\n",
        "\n",
        "# You're now ready to define and train the LSTM model in the next cells."
      ],
      "metadata": {
        "colab": {
          "base_uri": "https://localhost:8080/"
        },
        "id": "NqnnzQyW1H9A",
        "outputId": "04da0582-0d67-4533-d6bc-449a59909a71"
      },
      "execution_count": null,
      "outputs": [
        {
          "output_type": "stream",
          "name": "stdout",
          "text": [
            "TensorFlow version: 2.18.0\n",
            "Successfully loaded text from 'tinyshakespeare.txt'. Length: 5314 characters.\n",
            "\n",
            "Cleaning text...\n",
            "Cleaned text (first 500 chars): first citizen before we proceed any further, hear me speak. all speak, speak. first citizen you are all resolved rather to die than to famish? all resolved. resolved. first citizen first, you know caius marcius is chief enemy to the people. all we knowt, we knowt. first citizen let us kill him, and well have corn at our own price. ist a verdict? all no more talking ont let it be done away, away! second citizen one word, good citizens. first citizen we are accounted poor citizens, the patricians ...\n",
            "Cleaned text length: 5175 characters.\n",
            "\n",
            "Tokenizing words...\n",
            "Total unique words (vocabulary size): 401\n",
            "First 20 words as numbers: [5, 3, 133, 9, 74, 75, 134, 50, 76, 30, 16, 30, 30, 5, 3, 2, 27, 16, 51, 135]\n",
            "\n",
            "Creating training sequences...\n",
            "Number of raw sequences created: 887\n",
            "Shape of X (inputs): (887, 50) (Number of sequences, Sequence length)\n",
            "Shape of y (outputs): (887, 402) (Number of sequences, Vocabulary size)\n",
            "Data preprocessing complete!\n"
          ]
        }
      ]
    },
    {
      "cell_type": "code",
      "source": [],
      "metadata": {
        "id": "J_ZvurDg1lSR"
      },
      "execution_count": null,
      "outputs": []
    },
    {
      "cell_type": "code",
      "source": [
        "# Colab Cell 2: Model Definition (LSTM)\n",
        "\n",
        "print(\"\\nDefining the LSTM model architecture...\")\n",
        "from tensorflow.keras.models import Sequential\n",
        "from tensorflow.keras.layers import Embedding, LSTM, Dense, Dropout, Bidirectional\n",
        "\n",
        "model = Sequential()\n",
        "# Embedding Layer: Converts your word numbers into dense vectors that the LSTM can understand better.\n",
        "# total_words is your vocabulary size. 100 is the dimension of the embedding vector.\n",
        "# input_length is the length of your input sequences (X.shape[1]).\n",
        "model.add(Embedding(total_words, 100, input_length=X.shape[1]))\n",
        "\n",
        "# Bidirectional LSTM Layer: Learns patterns from text reading both forwards and backwards.\n",
        "# return_sequences=True means this LSTM layer outputs a sequence for the next LSTM layer.\n",
        "# You can experiment with the number of units (e.g., 150, 200).\n",
        "model.add(Bidirectional(LSTM(150, return_sequences=True)))\n",
        "model.add(Dropout(0.2)) # A common regularization technique to prevent overfitting\n",
        "\n",
        "# Another LSTM Layer: This one processes the output from the first LSTM.\n",
        "# return_sequences=False (default) means it outputs a single vector for the Dense layer.\n",
        "model.add(LSTM(100))\n",
        "model.add(Dense(total_words, activation='softmax')) # Output layer: predicts the probability for each word in your vocabulary.\n",
        "\n",
        "# Compile the model: This configures the model for training.\n",
        "# 'categorical_crossentropy' is used because your 'y' is one-hot encoded.\n",
        "# 'adam' is a popular optimizer.\n",
        "model.compile(loss='categorical_crossentropy', optimizer='adam', metrics=['accuracy'])\n",
        "\n",
        "print(\"\\nModel Summary:\")\n",
        "model.summary()\n",
        "print(\"Model definition complete!\")\n",
        "\n",
        "# You're now ready to train the LSTM model in the next cell."
      ],
      "metadata": {
        "colab": {
          "base_uri": "https://localhost:8080/",
          "height": 448
        },
        "id": "a8Wc75sq2AGj",
        "outputId": "d71fec63-78f4-44b0-a408-57eaa2230f82"
      },
      "execution_count": null,
      "outputs": [
        {
          "output_type": "stream",
          "name": "stdout",
          "text": [
            "\n",
            "Defining the LSTM model architecture...\n"
          ]
        },
        {
          "output_type": "stream",
          "name": "stderr",
          "text": [
            "/usr/local/lib/python3.11/dist-packages/keras/src/layers/core/embedding.py:90: UserWarning: Argument `input_length` is deprecated. Just remove it.\n",
            "  warnings.warn(\n"
          ]
        },
        {
          "output_type": "stream",
          "name": "stdout",
          "text": [
            "\n",
            "Model Summary:\n"
          ]
        },
        {
          "output_type": "display_data",
          "data": {
            "text/plain": [
              "\u001b[1mModel: \"sequential\"\u001b[0m\n"
            ],
            "text/html": [
              "<pre style=\"white-space:pre;overflow-x:auto;line-height:normal;font-family:Menlo,'DejaVu Sans Mono',consolas,'Courier New',monospace\"><span style=\"font-weight: bold\">Model: \"sequential\"</span>\n",
              "</pre>\n"
            ]
          },
          "metadata": {}
        },
        {
          "output_type": "display_data",
          "data": {
            "text/plain": [
              "┏━━━━━━━━━━━━━━━━━━━━━━━━━━━━━━━━━┳━━━━━━━━━━━━━━━━━━━━━━━━┳━━━━━━━━━━━━━━━┓\n",
              "┃\u001b[1m \u001b[0m\u001b[1mLayer (type)                   \u001b[0m\u001b[1m \u001b[0m┃\u001b[1m \u001b[0m\u001b[1mOutput Shape          \u001b[0m\u001b[1m \u001b[0m┃\u001b[1m \u001b[0m\u001b[1m      Param #\u001b[0m\u001b[1m \u001b[0m┃\n",
              "┡━━━━━━━━━━━━━━━━━━━━━━━━━━━━━━━━━╇━━━━━━━━━━━━━━━━━━━━━━━━╇━━━━━━━━━━━━━━━┩\n",
              "│ embedding (\u001b[38;5;33mEmbedding\u001b[0m)           │ ?                      │   \u001b[38;5;34m0\u001b[0m (unbuilt) │\n",
              "├─────────────────────────────────┼────────────────────────┼───────────────┤\n",
              "│ bidirectional (\u001b[38;5;33mBidirectional\u001b[0m)   │ ?                      │   \u001b[38;5;34m0\u001b[0m (unbuilt) │\n",
              "├─────────────────────────────────┼────────────────────────┼───────────────┤\n",
              "│ dropout (\u001b[38;5;33mDropout\u001b[0m)               │ ?                      │             \u001b[38;5;34m0\u001b[0m │\n",
              "├─────────────────────────────────┼────────────────────────┼───────────────┤\n",
              "│ lstm_1 (\u001b[38;5;33mLSTM\u001b[0m)                   │ ?                      │   \u001b[38;5;34m0\u001b[0m (unbuilt) │\n",
              "├─────────────────────────────────┼────────────────────────┼───────────────┤\n",
              "│ dense (\u001b[38;5;33mDense\u001b[0m)                   │ ?                      │   \u001b[38;5;34m0\u001b[0m (unbuilt) │\n",
              "└─────────────────────────────────┴────────────────────────┴───────────────┘\n"
            ],
            "text/html": [
              "<pre style=\"white-space:pre;overflow-x:auto;line-height:normal;font-family:Menlo,'DejaVu Sans Mono',consolas,'Courier New',monospace\">┏━━━━━━━━━━━━━━━━━━━━━━━━━━━━━━━━━┳━━━━━━━━━━━━━━━━━━━━━━━━┳━━━━━━━━━━━━━━━┓\n",
              "┃<span style=\"font-weight: bold\"> Layer (type)                    </span>┃<span style=\"font-weight: bold\"> Output Shape           </span>┃<span style=\"font-weight: bold\">       Param # </span>┃\n",
              "┡━━━━━━━━━━━━━━━━━━━━━━━━━━━━━━━━━╇━━━━━━━━━━━━━━━━━━━━━━━━╇━━━━━━━━━━━━━━━┩\n",
              "│ embedding (<span style=\"color: #0087ff; text-decoration-color: #0087ff\">Embedding</span>)           │ ?                      │   <span style=\"color: #00af00; text-decoration-color: #00af00\">0</span> (unbuilt) │\n",
              "├─────────────────────────────────┼────────────────────────┼───────────────┤\n",
              "│ bidirectional (<span style=\"color: #0087ff; text-decoration-color: #0087ff\">Bidirectional</span>)   │ ?                      │   <span style=\"color: #00af00; text-decoration-color: #00af00\">0</span> (unbuilt) │\n",
              "├─────────────────────────────────┼────────────────────────┼───────────────┤\n",
              "│ dropout (<span style=\"color: #0087ff; text-decoration-color: #0087ff\">Dropout</span>)               │ ?                      │             <span style=\"color: #00af00; text-decoration-color: #00af00\">0</span> │\n",
              "├─────────────────────────────────┼────────────────────────┼───────────────┤\n",
              "│ lstm_1 (<span style=\"color: #0087ff; text-decoration-color: #0087ff\">LSTM</span>)                   │ ?                      │   <span style=\"color: #00af00; text-decoration-color: #00af00\">0</span> (unbuilt) │\n",
              "├─────────────────────────────────┼────────────────────────┼───────────────┤\n",
              "│ dense (<span style=\"color: #0087ff; text-decoration-color: #0087ff\">Dense</span>)                   │ ?                      │   <span style=\"color: #00af00; text-decoration-color: #00af00\">0</span> (unbuilt) │\n",
              "└─────────────────────────────────┴────────────────────────┴───────────────┘\n",
              "</pre>\n"
            ]
          },
          "metadata": {}
        },
        {
          "output_type": "display_data",
          "data": {
            "text/plain": [
              "\u001b[1m Total params: \u001b[0m\u001b[38;5;34m0\u001b[0m (0.00 B)\n"
            ],
            "text/html": [
              "<pre style=\"white-space:pre;overflow-x:auto;line-height:normal;font-family:Menlo,'DejaVu Sans Mono',consolas,'Courier New',monospace\"><span style=\"font-weight: bold\"> Total params: </span><span style=\"color: #00af00; text-decoration-color: #00af00\">0</span> (0.00 B)\n",
              "</pre>\n"
            ]
          },
          "metadata": {}
        },
        {
          "output_type": "display_data",
          "data": {
            "text/plain": [
              "\u001b[1m Trainable params: \u001b[0m\u001b[38;5;34m0\u001b[0m (0.00 B)\n"
            ],
            "text/html": [
              "<pre style=\"white-space:pre;overflow-x:auto;line-height:normal;font-family:Menlo,'DejaVu Sans Mono',consolas,'Courier New',monospace\"><span style=\"font-weight: bold\"> Trainable params: </span><span style=\"color: #00af00; text-decoration-color: #00af00\">0</span> (0.00 B)\n",
              "</pre>\n"
            ]
          },
          "metadata": {}
        },
        {
          "output_type": "display_data",
          "data": {
            "text/plain": [
              "\u001b[1m Non-trainable params: \u001b[0m\u001b[38;5;34m0\u001b[0m (0.00 B)\n"
            ],
            "text/html": [
              "<pre style=\"white-space:pre;overflow-x:auto;line-height:normal;font-family:Menlo,'DejaVu Sans Mono',consolas,'Courier New',monospace\"><span style=\"font-weight: bold\"> Non-trainable params: </span><span style=\"color: #00af00; text-decoration-color: #00af00\">0</span> (0.00 B)\n",
              "</pre>\n"
            ]
          },
          "metadata": {}
        },
        {
          "output_type": "stream",
          "name": "stdout",
          "text": [
            "Model definition complete!\n"
          ]
        }
      ]
    },
    {
      "cell_type": "code",
      "source": [
        "# Colab Cell 3: Model Training (LSTM)\n",
        "\n",
        "print(\"\\nStarting model training...\")\n",
        "\n",
        "# Define the number of epochs (how many times the model sees the entire dataset)\n",
        "# For larger datasets, this might take a long time. Start with fewer epochs (e.g., 20)\n",
        "# and increase if your accuracy isn't improving.\n",
        "num_epochs = 50 # You might need to adjust this (e.g., 20, 50, 100, or more)\n",
        "\n",
        "# batch_size: number of samples per gradient update. Adjust based on GPU memory.\n",
        "# Smaller batch sizes are less memory intensive.\n",
        "batch_size = 64 # Common values: 32, 64, 128, 256\n",
        "\n",
        "history = model.fit(\n",
        "    X,\n",
        "    y,\n",
        "    epochs=num_epochs,\n",
        "    batch_size=batch_size,\n",
        "    verbose=1 # Show progress during training\n",
        ")\n",
        "\n",
        "print(\"\\nModel training finished!\")\n",
        "\n",
        "# Optional: Plot training history to see loss and accuracy over epochs\n",
        "import matplotlib.pyplot as plt\n",
        "\n",
        "plt.figure(figsize=(12, 5))\n",
        "\n",
        "# Plot training loss\n",
        "plt.subplot(1, 2, 1)\n",
        "plt.plot(history.history['loss'], label='Loss')\n",
        "plt.title('Model Loss Over Epochs')\n",
        "plt.xlabel('Epoch')\n",
        "plt.ylabel('Loss')\n",
        "plt.legend()\n",
        "\n",
        "# Plot training accuracy\n",
        "plt.subplot(1, 2, 2)\n",
        "plt.plot(history.history['accuracy'], label='Accuracy')\n",
        "plt.title('Model Accuracy Over Epochs')\n",
        "plt.xlabel('Epoch')\n",
        "plt.ylabel('Accuracy')\n",
        "plt.legend()\n",
        "\n",
        "plt.tight_layout()\n",
        "plt.show()\n",
        "\n",
        "# You're now ready to generate text in the next cell."
      ],
      "metadata": {
        "colab": {
          "base_uri": "https://localhost:8080/",
          "height": 1000
        },
        "id": "ZydmZ1Ll2IfE",
        "outputId": "c7744713-e3af-44c5-c7c3-6be4eaffc7bd"
      },
      "execution_count": null,
      "outputs": [
        {
          "output_type": "stream",
          "name": "stdout",
          "text": [
            "\n",
            "Starting model training...\n",
            "Epoch 1/50\n"
          ]
        },
        {
          "output_type": "error",
          "ename": "InvalidArgumentError",
          "evalue": "Graph execution error:\n\nDetected at node sequential_1/bidirectional_1/forward_lstm_1/CudnnRNNV3 defined at (most recent call last):\n  File \"<frozen runpy>\", line 198, in _run_module_as_main\n\n  File \"<frozen runpy>\", line 88, in _run_code\n\n  File \"/usr/local/lib/python3.11/dist-packages/colab_kernel_launcher.py\", line 37, in <module>\n\n  File \"/usr/local/lib/python3.11/dist-packages/traitlets/config/application.py\", line 992, in launch_instance\n\n  File \"/usr/local/lib/python3.11/dist-packages/ipykernel/kernelapp.py\", line 712, in start\n\n  File \"/usr/local/lib/python3.11/dist-packages/tornado/platform/asyncio.py\", line 205, in start\n\n  File \"/usr/lib/python3.11/asyncio/base_events.py\", line 608, in run_forever\n\n  File \"/usr/lib/python3.11/asyncio/base_events.py\", line 1936, in _run_once\n\n  File \"/usr/lib/python3.11/asyncio/events.py\", line 84, in _run\n\n  File \"/usr/local/lib/python3.11/dist-packages/ipykernel/kernelbase.py\", line 510, in dispatch_queue\n\n  File \"/usr/local/lib/python3.11/dist-packages/ipykernel/kernelbase.py\", line 499, in process_one\n\n  File \"/usr/local/lib/python3.11/dist-packages/ipykernel/kernelbase.py\", line 406, in dispatch_shell\n\n  File \"/usr/local/lib/python3.11/dist-packages/ipykernel/kernelbase.py\", line 730, in execute_request\n\n  File \"/usr/local/lib/python3.11/dist-packages/ipykernel/ipkernel.py\", line 383, in do_execute\n\n  File \"/usr/local/lib/python3.11/dist-packages/ipykernel/zmqshell.py\", line 528, in run_cell\n\n  File \"/usr/local/lib/python3.11/dist-packages/IPython/core/interactiveshell.py\", line 2975, in run_cell\n\n  File \"/usr/local/lib/python3.11/dist-packages/IPython/core/interactiveshell.py\", line 3030, in _run_cell\n\n  File \"/usr/local/lib/python3.11/dist-packages/IPython/core/async_helpers.py\", line 78, in _pseudo_sync_runner\n\n  File \"/usr/local/lib/python3.11/dist-packages/IPython/core/interactiveshell.py\", line 3257, in run_cell_async\n\n  File \"/usr/local/lib/python3.11/dist-packages/IPython/core/interactiveshell.py\", line 3473, in run_ast_nodes\n\n  File \"/usr/local/lib/python3.11/dist-packages/IPython/core/interactiveshell.py\", line 3553, in run_code\n\n  File \"/tmp/ipython-input-4-3431813803.py\", line 14, in <cell line: 0>\n\n  File \"/usr/local/lib/python3.11/dist-packages/keras/src/utils/traceback_utils.py\", line 117, in error_handler\n\n  File \"/usr/local/lib/python3.11/dist-packages/keras/src/backend/tensorflow/trainer.py\", line 371, in fit\n\n  File \"/usr/local/lib/python3.11/dist-packages/keras/src/backend/tensorflow/trainer.py\", line 219, in function\n\n  File \"/usr/local/lib/python3.11/dist-packages/keras/src/backend/tensorflow/trainer.py\", line 132, in multi_step_on_iterator\n\n  File \"/usr/local/lib/python3.11/dist-packages/keras/src/backend/tensorflow/trainer.py\", line 113, in one_step_on_data\n\n  File \"/usr/local/lib/python3.11/dist-packages/keras/src/backend/tensorflow/trainer.py\", line 57, in train_step\n\n  File \"/usr/local/lib/python3.11/dist-packages/keras/src/utils/traceback_utils.py\", line 117, in error_handler\n\n  File \"/usr/local/lib/python3.11/dist-packages/keras/src/layers/layer.py\", line 908, in __call__\n\n  File \"/usr/local/lib/python3.11/dist-packages/keras/src/utils/traceback_utils.py\", line 117, in error_handler\n\n  File \"/usr/local/lib/python3.11/dist-packages/keras/src/ops/operation.py\", line 46, in __call__\n\n  File \"/usr/local/lib/python3.11/dist-packages/keras/src/utils/traceback_utils.py\", line 156, in error_handler\n\n  File \"/usr/local/lib/python3.11/dist-packages/keras/src/models/sequential.py\", line 213, in call\n\n  File \"/usr/local/lib/python3.11/dist-packages/keras/src/models/functional.py\", line 182, in call\n\n  File \"/usr/local/lib/python3.11/dist-packages/keras/src/ops/function.py\", line 171, in _run_through_graph\n\n  File \"/usr/local/lib/python3.11/dist-packages/keras/src/models/functional.py\", line 637, in call\n\n  File \"/usr/local/lib/python3.11/dist-packages/keras/src/utils/traceback_utils.py\", line 117, in error_handler\n\n  File \"/usr/local/lib/python3.11/dist-packages/keras/src/layers/layer.py\", line 908, in __call__\n\n  File \"/usr/local/lib/python3.11/dist-packages/keras/src/utils/traceback_utils.py\", line 117, in error_handler\n\n  File \"/usr/local/lib/python3.11/dist-packages/keras/src/ops/operation.py\", line 46, in __call__\n\n  File \"/usr/local/lib/python3.11/dist-packages/keras/src/utils/traceback_utils.py\", line 156, in error_handler\n\n  File \"/usr/local/lib/python3.11/dist-packages/keras/src/layers/rnn/bidirectional.py\", line 218, in call\n\n  File \"/usr/local/lib/python3.11/dist-packages/keras/src/utils/traceback_utils.py\", line 117, in error_handler\n\n  File \"/usr/local/lib/python3.11/dist-packages/keras/src/layers/layer.py\", line 908, in __call__\n\n  File \"/usr/local/lib/python3.11/dist-packages/keras/src/utils/traceback_utils.py\", line 117, in error_handler\n\n  File \"/usr/local/lib/python3.11/dist-packages/keras/src/ops/operation.py\", line 46, in __call__\n\n  File \"/usr/local/lib/python3.11/dist-packages/keras/src/utils/traceback_utils.py\", line 156, in error_handler\n\n  File \"/usr/local/lib/python3.11/dist-packages/keras/src/layers/rnn/lstm.py\", line 584, in call\n\n  File \"/usr/local/lib/python3.11/dist-packages/keras/src/layers/rnn/rnn.py\", line 402, in call\n\n  File \"/usr/local/lib/python3.11/dist-packages/keras/src/layers/rnn/lstm.py\", line 551, in inner_loop\n\n  File \"/usr/local/lib/python3.11/dist-packages/keras/src/backend/tensorflow/rnn.py\", line 841, in lstm\n\n  File \"/usr/local/lib/python3.11/dist-packages/keras/src/backend/tensorflow/rnn.py\", line 933, in _cudnn_lstm\n\nDnn is not supported\n\t [[{{node sequential_1/bidirectional_1/forward_lstm_1/CudnnRNNV3}}]] [Op:__inference_multi_step_on_iterator_4133]",
          "traceback": [
            "\u001b[0;31m---------------------------------------------------------------------------\u001b[0m",
            "\u001b[0;31mInvalidArgumentError\u001b[0m                      Traceback (most recent call last)",
            "\u001b[0;32m/tmp/ipython-input-4-3431813803.py\u001b[0m in \u001b[0;36m<cell line: 0>\u001b[0;34m()\u001b[0m\n\u001b[1;32m     12\u001b[0m \u001b[0mbatch_size\u001b[0m \u001b[0;34m=\u001b[0m \u001b[0;36m64\u001b[0m \u001b[0;31m# Common values: 32, 64, 128, 256\u001b[0m\u001b[0;34m\u001b[0m\u001b[0;34m\u001b[0m\u001b[0m\n\u001b[1;32m     13\u001b[0m \u001b[0;34m\u001b[0m\u001b[0m\n\u001b[0;32m---> 14\u001b[0;31m history = model.fit(\n\u001b[0m\u001b[1;32m     15\u001b[0m     \u001b[0mX\u001b[0m\u001b[0;34m,\u001b[0m\u001b[0;34m\u001b[0m\u001b[0;34m\u001b[0m\u001b[0m\n\u001b[1;32m     16\u001b[0m     \u001b[0my\u001b[0m\u001b[0;34m,\u001b[0m\u001b[0;34m\u001b[0m\u001b[0;34m\u001b[0m\u001b[0m\n",
            "\u001b[0;32m/usr/local/lib/python3.11/dist-packages/keras/src/utils/traceback_utils.py\u001b[0m in \u001b[0;36merror_handler\u001b[0;34m(*args, **kwargs)\u001b[0m\n\u001b[1;32m    120\u001b[0m             \u001b[0;31m# To get the full stack trace, call:\u001b[0m\u001b[0;34m\u001b[0m\u001b[0;34m\u001b[0m\u001b[0m\n\u001b[1;32m    121\u001b[0m             \u001b[0;31m# `keras.config.disable_traceback_filtering()`\u001b[0m\u001b[0;34m\u001b[0m\u001b[0;34m\u001b[0m\u001b[0m\n\u001b[0;32m--> 122\u001b[0;31m             \u001b[0;32mraise\u001b[0m \u001b[0me\u001b[0m\u001b[0;34m.\u001b[0m\u001b[0mwith_traceback\u001b[0m\u001b[0;34m(\u001b[0m\u001b[0mfiltered_tb\u001b[0m\u001b[0;34m)\u001b[0m \u001b[0;32mfrom\u001b[0m \u001b[0;32mNone\u001b[0m\u001b[0;34m\u001b[0m\u001b[0;34m\u001b[0m\u001b[0m\n\u001b[0m\u001b[1;32m    123\u001b[0m         \u001b[0;32mfinally\u001b[0m\u001b[0;34m:\u001b[0m\u001b[0;34m\u001b[0m\u001b[0;34m\u001b[0m\u001b[0m\n\u001b[1;32m    124\u001b[0m             \u001b[0;32mdel\u001b[0m \u001b[0mfiltered_tb\u001b[0m\u001b[0;34m\u001b[0m\u001b[0;34m\u001b[0m\u001b[0m\n",
            "\u001b[0;32m/usr/local/lib/python3.11/dist-packages/tensorflow/python/eager/execute.py\u001b[0m in \u001b[0;36mquick_execute\u001b[0;34m(op_name, num_outputs, inputs, attrs, ctx, name)\u001b[0m\n\u001b[1;32m     57\u001b[0m       \u001b[0me\u001b[0m\u001b[0;34m.\u001b[0m\u001b[0mmessage\u001b[0m \u001b[0;34m+=\u001b[0m \u001b[0;34m\" name: \"\u001b[0m \u001b[0;34m+\u001b[0m \u001b[0mname\u001b[0m\u001b[0;34m\u001b[0m\u001b[0;34m\u001b[0m\u001b[0m\n\u001b[1;32m     58\u001b[0m     \u001b[0;32mraise\u001b[0m \u001b[0mcore\u001b[0m\u001b[0;34m.\u001b[0m\u001b[0m_status_to_exception\u001b[0m\u001b[0;34m(\u001b[0m\u001b[0me\u001b[0m\u001b[0;34m)\u001b[0m \u001b[0;32mfrom\u001b[0m \u001b[0;32mNone\u001b[0m\u001b[0;34m\u001b[0m\u001b[0;34m\u001b[0m\u001b[0m\n\u001b[0;32m---> 59\u001b[0;31m   \u001b[0;32mexcept\u001b[0m \u001b[0mTypeError\u001b[0m \u001b[0;32mas\u001b[0m \u001b[0me\u001b[0m\u001b[0;34m:\u001b[0m\u001b[0;34m\u001b[0m\u001b[0;34m\u001b[0m\u001b[0m\n\u001b[0m\u001b[1;32m     60\u001b[0m     \u001b[0mkeras_symbolic_tensors\u001b[0m \u001b[0;34m=\u001b[0m \u001b[0;34m[\u001b[0m\u001b[0mx\u001b[0m \u001b[0;32mfor\u001b[0m \u001b[0mx\u001b[0m \u001b[0;32min\u001b[0m \u001b[0minputs\u001b[0m \u001b[0;32mif\u001b[0m \u001b[0m_is_keras_symbolic_tensor\u001b[0m\u001b[0;34m(\u001b[0m\u001b[0mx\u001b[0m\u001b[0;34m)\u001b[0m\u001b[0;34m]\u001b[0m\u001b[0;34m\u001b[0m\u001b[0;34m\u001b[0m\u001b[0m\n\u001b[1;32m     61\u001b[0m     \u001b[0;32mif\u001b[0m \u001b[0mkeras_symbolic_tensors\u001b[0m\u001b[0;34m:\u001b[0m\u001b[0;34m\u001b[0m\u001b[0;34m\u001b[0m\u001b[0m\n",
            "\u001b[0;31mInvalidArgumentError\u001b[0m: Graph execution error:\n\nDetected at node sequential_1/bidirectional_1/forward_lstm_1/CudnnRNNV3 defined at (most recent call last):\n  File \"<frozen runpy>\", line 198, in _run_module_as_main\n\n  File \"<frozen runpy>\", line 88, in _run_code\n\n  File \"/usr/local/lib/python3.11/dist-packages/colab_kernel_launcher.py\", line 37, in <module>\n\n  File \"/usr/local/lib/python3.11/dist-packages/traitlets/config/application.py\", line 992, in launch_instance\n\n  File \"/usr/local/lib/python3.11/dist-packages/ipykernel/kernelapp.py\", line 712, in start\n\n  File \"/usr/local/lib/python3.11/dist-packages/tornado/platform/asyncio.py\", line 205, in start\n\n  File \"/usr/lib/python3.11/asyncio/base_events.py\", line 608, in run_forever\n\n  File \"/usr/lib/python3.11/asyncio/base_events.py\", line 1936, in _run_once\n\n  File \"/usr/lib/python3.11/asyncio/events.py\", line 84, in _run\n\n  File \"/usr/local/lib/python3.11/dist-packages/ipykernel/kernelbase.py\", line 510, in dispatch_queue\n\n  File \"/usr/local/lib/python3.11/dist-packages/ipykernel/kernelbase.py\", line 499, in process_one\n\n  File \"/usr/local/lib/python3.11/dist-packages/ipykernel/kernelbase.py\", line 406, in dispatch_shell\n\n  File \"/usr/local/lib/python3.11/dist-packages/ipykernel/kernelbase.py\", line 730, in execute_request\n\n  File \"/usr/local/lib/python3.11/dist-packages/ipykernel/ipkernel.py\", line 383, in do_execute\n\n  File \"/usr/local/lib/python3.11/dist-packages/ipykernel/zmqshell.py\", line 528, in run_cell\n\n  File \"/usr/local/lib/python3.11/dist-packages/IPython/core/interactiveshell.py\", line 2975, in run_cell\n\n  File \"/usr/local/lib/python3.11/dist-packages/IPython/core/interactiveshell.py\", line 3030, in _run_cell\n\n  File \"/usr/local/lib/python3.11/dist-packages/IPython/core/async_helpers.py\", line 78, in _pseudo_sync_runner\n\n  File \"/usr/local/lib/python3.11/dist-packages/IPython/core/interactiveshell.py\", line 3257, in run_cell_async\n\n  File \"/usr/local/lib/python3.11/dist-packages/IPython/core/interactiveshell.py\", line 3473, in run_ast_nodes\n\n  File \"/usr/local/lib/python3.11/dist-packages/IPython/core/interactiveshell.py\", line 3553, in run_code\n\n  File \"/tmp/ipython-input-4-3431813803.py\", line 14, in <cell line: 0>\n\n  File \"/usr/local/lib/python3.11/dist-packages/keras/src/utils/traceback_utils.py\", line 117, in error_handler\n\n  File \"/usr/local/lib/python3.11/dist-packages/keras/src/backend/tensorflow/trainer.py\", line 371, in fit\n\n  File \"/usr/local/lib/python3.11/dist-packages/keras/src/backend/tensorflow/trainer.py\", line 219, in function\n\n  File \"/usr/local/lib/python3.11/dist-packages/keras/src/backend/tensorflow/trainer.py\", line 132, in multi_step_on_iterator\n\n  File \"/usr/local/lib/python3.11/dist-packages/keras/src/backend/tensorflow/trainer.py\", line 113, in one_step_on_data\n\n  File \"/usr/local/lib/python3.11/dist-packages/keras/src/backend/tensorflow/trainer.py\", line 57, in train_step\n\n  File \"/usr/local/lib/python3.11/dist-packages/keras/src/utils/traceback_utils.py\", line 117, in error_handler\n\n  File \"/usr/local/lib/python3.11/dist-packages/keras/src/layers/layer.py\", line 908, in __call__\n\n  File \"/usr/local/lib/python3.11/dist-packages/keras/src/utils/traceback_utils.py\", line 117, in error_handler\n\n  File \"/usr/local/lib/python3.11/dist-packages/keras/src/ops/operation.py\", line 46, in __call__\n\n  File \"/usr/local/lib/python3.11/dist-packages/keras/src/utils/traceback_utils.py\", line 156, in error_handler\n\n  File \"/usr/local/lib/python3.11/dist-packages/keras/src/models/sequential.py\", line 213, in call\n\n  File \"/usr/local/lib/python3.11/dist-packages/keras/src/models/functional.py\", line 182, in call\n\n  File \"/usr/local/lib/python3.11/dist-packages/keras/src/ops/function.py\", line 171, in _run_through_graph\n\n  File \"/usr/local/lib/python3.11/dist-packages/keras/src/models/functional.py\", line 637, in call\n\n  File \"/usr/local/lib/python3.11/dist-packages/keras/src/utils/traceback_utils.py\", line 117, in error_handler\n\n  File \"/usr/local/lib/python3.11/dist-packages/keras/src/layers/layer.py\", line 908, in __call__\n\n  File \"/usr/local/lib/python3.11/dist-packages/keras/src/utils/traceback_utils.py\", line 117, in error_handler\n\n  File \"/usr/local/lib/python3.11/dist-packages/keras/src/ops/operation.py\", line 46, in __call__\n\n  File \"/usr/local/lib/python3.11/dist-packages/keras/src/utils/traceback_utils.py\", line 156, in error_handler\n\n  File \"/usr/local/lib/python3.11/dist-packages/keras/src/layers/rnn/bidirectional.py\", line 218, in call\n\n  File \"/usr/local/lib/python3.11/dist-packages/keras/src/utils/traceback_utils.py\", line 117, in error_handler\n\n  File \"/usr/local/lib/python3.11/dist-packages/keras/src/layers/layer.py\", line 908, in __call__\n\n  File \"/usr/local/lib/python3.11/dist-packages/keras/src/utils/traceback_utils.py\", line 117, in error_handler\n\n  File \"/usr/local/lib/python3.11/dist-packages/keras/src/ops/operation.py\", line 46, in __call__\n\n  File \"/usr/local/lib/python3.11/dist-packages/keras/src/utils/traceback_utils.py\", line 156, in error_handler\n\n  File \"/usr/local/lib/python3.11/dist-packages/keras/src/layers/rnn/lstm.py\", line 584, in call\n\n  File \"/usr/local/lib/python3.11/dist-packages/keras/src/layers/rnn/rnn.py\", line 402, in call\n\n  File \"/usr/local/lib/python3.11/dist-packages/keras/src/layers/rnn/lstm.py\", line 551, in inner_loop\n\n  File \"/usr/local/lib/python3.11/dist-packages/keras/src/backend/tensorflow/rnn.py\", line 841, in lstm\n\n  File \"/usr/local/lib/python3.11/dist-packages/keras/src/backend/tensorflow/rnn.py\", line 933, in _cudnn_lstm\n\nDnn is not supported\n\t [[{{node sequential_1/bidirectional_1/forward_lstm_1/CudnnRNNV3}}]] [Op:__inference_multi_step_on_iterator_4133]"
          ]
        }
      ]
    },
    {
      "cell_type": "code",
      "source": [
        "# Colab Cell 2: Model Definition (LSTM) - CORRECTED\n",
        "\n",
        "print(\"\\nDefining the LSTM model architecture...\")\n",
        "from tensorflow.keras.models import Sequential\n",
        "from tensorflow.keras.layers import Embedding, LSTM, Dense, Dropout, Bidirectional\n",
        "import tensorflow as tf # Ensure tf is imported here if not already\n",
        "\n",
        "# Check if a GPU is available\n",
        "if tf.config.list_physical_devices('GPU'):\n",
        "    print(\"GPU is available and will be used.\")\n",
        "else:\n",
        "    print(\"No GPU found. Model will run on CPU, which might be slower.\")\n",
        "\n",
        "\n",
        "model = Sequential()\n",
        "# Embedding Layer:\n",
        "# total_words: vocabulary size\n",
        "# 100: dimension of the embedding vector\n",
        "# input_length=X.shape[1]: The length of your input sequences (which is `sequence_length`)\n",
        "model.add(Embedding(total_words, 100, input_length=X.shape[1]))\n",
        "\n",
        "# Bidirectional LSTM Layer:\n",
        "# The `input_shape` for the first recurrent layer (like LSTM/GRU/Bidirectional)\n",
        "# after an Embedding layer should be `(input_length, embedding_dimension)`.\n",
        "# However, Keras usually infers this correctly if `input_length` is set in Embedding.\n",
        "# The `InvalidArgumentError` suggests the input to the CuDNN RNN might not be 3D.\n",
        "# Let's ensure the previous layer's output shape is correctly propagated.\n",
        "# The default `return_sequences=False` on the last LSTM layer is fine.\n",
        "model.add(Bidirectional(LSTM(150, return_sequences=True))) # 150 is number of LSTM units\n",
        "model.add(Dropout(0.2)) # Randomly turns off some neurons to prevent overfitting\n",
        "\n",
        "model.add(LSTM(100)) # Second LSTM layer\n",
        "model.add(Dense(total_words, activation='softmax')) # Output layer: predicts probability of each word\n",
        "\n",
        "# Compile the model:\n",
        "model.compile(loss='categorical_crossentropy', optimizer='adam', metrics=['accuracy'])\n",
        "\n",
        "print(\"\\nModel Summary:\")\n",
        "model.summary()\n",
        "print(\"Model definition complete!\")"
      ],
      "metadata": {
        "colab": {
          "base_uri": "https://localhost:8080/",
          "height": 410
        },
        "id": "FL2r97Kh2gDV",
        "outputId": "642738d3-6eb2-418a-fcc7-42ee724c37c1"
      },
      "execution_count": null,
      "outputs": [
        {
          "output_type": "stream",
          "name": "stdout",
          "text": [
            "\n",
            "Defining the LSTM model architecture...\n",
            "GPU is available and will be used.\n",
            "\n",
            "Model Summary:\n"
          ]
        },
        {
          "output_type": "display_data",
          "data": {
            "text/plain": [
              "\u001b[1mModel: \"sequential_1\"\u001b[0m\n"
            ],
            "text/html": [
              "<pre style=\"white-space:pre;overflow-x:auto;line-height:normal;font-family:Menlo,'DejaVu Sans Mono',consolas,'Courier New',monospace\"><span style=\"font-weight: bold\">Model: \"sequential_1\"</span>\n",
              "</pre>\n"
            ]
          },
          "metadata": {}
        },
        {
          "output_type": "display_data",
          "data": {
            "text/plain": [
              "┏━━━━━━━━━━━━━━━━━━━━━━━━━━━━━━━━━┳━━━━━━━━━━━━━━━━━━━━━━━━┳━━━━━━━━━━━━━━━┓\n",
              "┃\u001b[1m \u001b[0m\u001b[1mLayer (type)                   \u001b[0m\u001b[1m \u001b[0m┃\u001b[1m \u001b[0m\u001b[1mOutput Shape          \u001b[0m\u001b[1m \u001b[0m┃\u001b[1m \u001b[0m\u001b[1m      Param #\u001b[0m\u001b[1m \u001b[0m┃\n",
              "┡━━━━━━━━━━━━━━━━━━━━━━━━━━━━━━━━━╇━━━━━━━━━━━━━━━━━━━━━━━━╇━━━━━━━━━━━━━━━┩\n",
              "│ embedding_1 (\u001b[38;5;33mEmbedding\u001b[0m)         │ ?                      │   \u001b[38;5;34m0\u001b[0m (unbuilt) │\n",
              "├─────────────────────────────────┼────────────────────────┼───────────────┤\n",
              "│ bidirectional_1 (\u001b[38;5;33mBidirectional\u001b[0m) │ ?                      │   \u001b[38;5;34m0\u001b[0m (unbuilt) │\n",
              "├─────────────────────────────────┼────────────────────────┼───────────────┤\n",
              "│ dropout_1 (\u001b[38;5;33mDropout\u001b[0m)             │ ?                      │             \u001b[38;5;34m0\u001b[0m │\n",
              "├─────────────────────────────────┼────────────────────────┼───────────────┤\n",
              "│ lstm_3 (\u001b[38;5;33mLSTM\u001b[0m)                   │ ?                      │   \u001b[38;5;34m0\u001b[0m (unbuilt) │\n",
              "├─────────────────────────────────┼────────────────────────┼───────────────┤\n",
              "│ dense_1 (\u001b[38;5;33mDense\u001b[0m)                 │ ?                      │   \u001b[38;5;34m0\u001b[0m (unbuilt) │\n",
              "└─────────────────────────────────┴────────────────────────┴───────────────┘\n"
            ],
            "text/html": [
              "<pre style=\"white-space:pre;overflow-x:auto;line-height:normal;font-family:Menlo,'DejaVu Sans Mono',consolas,'Courier New',monospace\">┏━━━━━━━━━━━━━━━━━━━━━━━━━━━━━━━━━┳━━━━━━━━━━━━━━━━━━━━━━━━┳━━━━━━━━━━━━━━━┓\n",
              "┃<span style=\"font-weight: bold\"> Layer (type)                    </span>┃<span style=\"font-weight: bold\"> Output Shape           </span>┃<span style=\"font-weight: bold\">       Param # </span>┃\n",
              "┡━━━━━━━━━━━━━━━━━━━━━━━━━━━━━━━━━╇━━━━━━━━━━━━━━━━━━━━━━━━╇━━━━━━━━━━━━━━━┩\n",
              "│ embedding_1 (<span style=\"color: #0087ff; text-decoration-color: #0087ff\">Embedding</span>)         │ ?                      │   <span style=\"color: #00af00; text-decoration-color: #00af00\">0</span> (unbuilt) │\n",
              "├─────────────────────────────────┼────────────────────────┼───────────────┤\n",
              "│ bidirectional_1 (<span style=\"color: #0087ff; text-decoration-color: #0087ff\">Bidirectional</span>) │ ?                      │   <span style=\"color: #00af00; text-decoration-color: #00af00\">0</span> (unbuilt) │\n",
              "├─────────────────────────────────┼────────────────────────┼───────────────┤\n",
              "│ dropout_1 (<span style=\"color: #0087ff; text-decoration-color: #0087ff\">Dropout</span>)             │ ?                      │             <span style=\"color: #00af00; text-decoration-color: #00af00\">0</span> │\n",
              "├─────────────────────────────────┼────────────────────────┼───────────────┤\n",
              "│ lstm_3 (<span style=\"color: #0087ff; text-decoration-color: #0087ff\">LSTM</span>)                   │ ?                      │   <span style=\"color: #00af00; text-decoration-color: #00af00\">0</span> (unbuilt) │\n",
              "├─────────────────────────────────┼────────────────────────┼───────────────┤\n",
              "│ dense_1 (<span style=\"color: #0087ff; text-decoration-color: #0087ff\">Dense</span>)                 │ ?                      │   <span style=\"color: #00af00; text-decoration-color: #00af00\">0</span> (unbuilt) │\n",
              "└─────────────────────────────────┴────────────────────────┴───────────────┘\n",
              "</pre>\n"
            ]
          },
          "metadata": {}
        },
        {
          "output_type": "display_data",
          "data": {
            "text/plain": [
              "\u001b[1m Total params: \u001b[0m\u001b[38;5;34m0\u001b[0m (0.00 B)\n"
            ],
            "text/html": [
              "<pre style=\"white-space:pre;overflow-x:auto;line-height:normal;font-family:Menlo,'DejaVu Sans Mono',consolas,'Courier New',monospace\"><span style=\"font-weight: bold\"> Total params: </span><span style=\"color: #00af00; text-decoration-color: #00af00\">0</span> (0.00 B)\n",
              "</pre>\n"
            ]
          },
          "metadata": {}
        },
        {
          "output_type": "display_data",
          "data": {
            "text/plain": [
              "\u001b[1m Trainable params: \u001b[0m\u001b[38;5;34m0\u001b[0m (0.00 B)\n"
            ],
            "text/html": [
              "<pre style=\"white-space:pre;overflow-x:auto;line-height:normal;font-family:Menlo,'DejaVu Sans Mono',consolas,'Courier New',monospace\"><span style=\"font-weight: bold\"> Trainable params: </span><span style=\"color: #00af00; text-decoration-color: #00af00\">0</span> (0.00 B)\n",
              "</pre>\n"
            ]
          },
          "metadata": {}
        },
        {
          "output_type": "display_data",
          "data": {
            "text/plain": [
              "\u001b[1m Non-trainable params: \u001b[0m\u001b[38;5;34m0\u001b[0m (0.00 B)\n"
            ],
            "text/html": [
              "<pre style=\"white-space:pre;overflow-x:auto;line-height:normal;font-family:Menlo,'DejaVu Sans Mono',consolas,'Courier New',monospace\"><span style=\"font-weight: bold\"> Non-trainable params: </span><span style=\"color: #00af00; text-decoration-color: #00af00\">0</span> (0.00 B)\n",
              "</pre>\n"
            ]
          },
          "metadata": {}
        },
        {
          "output_type": "stream",
          "name": "stdout",
          "text": [
            "Model definition complete!\n"
          ]
        }
      ]
    },
    {
      "cell_type": "code",
      "source": [
        "# Colab Cell 1: Data Loading and Preprocessing\n",
        "\n",
        "# Install necessary libraries if not already present (Colab usually has them)\n",
        "# !pip install tensorflow numpy pandas\n",
        "\n",
        "import tensorflow as tf\n",
        "from tensorflow.keras.preprocessing.text import Tokenizer\n",
        "from tensorflow.keras.preprocessing.sequence import pad_sequences\n",
        "from tensorflow.keras.utils import to_categorical\n",
        "import numpy as np\n",
        "import re\n",
        "import os # To check if file exists\n",
        "\n",
        "print(f\"TensorFlow version: {tf.__version__}\")\n",
        "\n",
        "# --- 1. Load the Text ---\n",
        "# >>> IMPORTANT: Replace 'your_text_file.txt' with the exact name of your uploaded file. <<<\n",
        "file_name = 'tinyshakespeare.txt' # e.g., 'tinyshakespeare.txt', 'alice.txt'\n",
        "\n",
        "# Check if the file exists\n",
        "if not os.path.exists(file_name):\n",
        "    print(f\"Error: The file '{file_name}' was not found in the Colab session storage.\")\n",
        "    print(\"Please ensure you have uploaded it using the 'Files' tab on the left sidebar.\")\n",
        "    # You might want to stop execution here if the file is critical\n",
        "    # raise FileNotFoundError(f\"File not found: {file_name}\")\n",
        "\n",
        "try:\n",
        "    with open(file_name, 'r', encoding='utf-8') as file:\n",
        "        raw_text = file.read()\n",
        "    print(f\"Successfully loaded text from '{file_name}'. Length: {len(raw_text)} characters.\")\n",
        "except Exception as e:\n",
        "    print(f\"An error occurred while reading the file: {e}\")\n",
        "    # Consider exiting or handling the error if loading fails\n",
        "    exit()\n",
        "\n",
        "# --- 2. Clean It Up ---\n",
        "print(\"\\nCleaning text...\")\n",
        "cleaned_text = raw_text.lower() # Convert all text to lowercase\n",
        "\n",
        "# Remove anything that's not a letter, space, or basic punctuation.\n",
        "# Keeping some punctuation can help with coherence for better models.\n",
        "# For simplicity, let's allow letters, spaces, and basic sentence-ending punctuation.\n",
        "cleaned_text = re.sub(r'[^a-z\\s.,!?]', '', cleaned_text)\n",
        "# Replace multiple spaces with a single space\n",
        "cleaned_text = re.sub(r'\\s+', ' ', cleaned_text).strip()\n",
        "print(f\"Cleaned text (first 500 chars): {cleaned_text[:500]}...\")\n",
        "print(f\"Cleaned text length: {len(cleaned_text)} characters.\")\n",
        "\n",
        "\n",
        "# --- 3. Turn Words into Numbers (Tokenization) ---\n",
        "print(\"\\nTokenizing words...\")\n",
        "tokenizer = Tokenizer()\n",
        "tokenizer.fit_on_texts([cleaned_text]) # Let the tokenizer learn all unique words\n",
        "\n",
        "word_to_id = tokenizer.word_index # Your word-to-number mapping\n",
        "id_to_word = {v: k for k, v in word_to_id.items()} # Your number-to-word mapping\n",
        "total_words = len(word_to_id) + 1 # Total unique words (+1 for potential OOV or padding)\n",
        "\n",
        "# Convert your entire text into a sequence of numbers\n",
        "numbered_text = tokenizer.texts_to_sequences([cleaned_text])[0]\n",
        "print(f\"Total unique words (vocabulary size): {total_words - 1}\") # -1 because of the +1 for padding token\n",
        "print(f\"First 20 words as numbers: {numbered_text[:20]}\")\n",
        "\n",
        "\n",
        "# --- 4. Create \"Training Pairs\" (Sequences) ---\n",
        "print(\"\\nCreating training sequences...\")\n",
        "sequence_length = 50 # How many words the model \"sees\" at once to predict the next\n",
        "input_sequences = []\n",
        "\n",
        "# Ensure we have enough text to form at least one sequence\n",
        "if len(numbered_text) < sequence_length + 1:\n",
        "    print(f\"Error: Not enough text to create sequences. Minimum length needed: {sequence_length + 1} tokens.\")\n",
        "    print(f\"Current text length (in tokens): {len(numbered_text)}\")\n",
        "    print(\"Please use a larger text file or reduce 'sequence_length'.\")\n",
        "    # Exit or raise error if data is insufficient for training\n",
        "    exit()\n",
        "\n",
        "for i in range(len(numbered_text) - sequence_length):\n",
        "    # Input: sequence_length words, Output: the (sequence_length + 1)th word\n",
        "    input_seq = numbered_text[i : i + sequence_length]\n",
        "    output_word = numbered_text[i + sequence_length]\n",
        "    input_sequences.append(input_seq + [output_word]) # Store as [word1, ..., word_N, next_word]\n",
        "\n",
        "print(f\"Number of raw sequences created: {len(input_sequences)}\")\n",
        "\n",
        "# Make all sequences the same length (add zeros if needed at the beginning)\n",
        "# The maxlen will be sequence_length + 1 (input sequence + 1 target word)\n",
        "max_sequence_len = max([len(seq) for seq in input_sequences])\n",
        "padded_sequences = pad_sequences(input_sequences, maxlen=max_sequence_len, padding='pre')\n",
        "\n",
        "# Separate into X (input features) and y (what we want to predict)\n",
        "X = padded_sequences[:, :-1] # All columns except the last one (the input sequence)\n",
        "y = padded_sequences[:, -1]  # Only the last column (the word to predict)\n",
        "\n",
        "# Convert 'y' to a special format (one-hot encoding) for the model's output layer\n",
        "# This means for each word, it's represented as a vector of zeros with a '1' at its corresponding index\n",
        "y = to_categorical(y, num_classes=total_words)\n",
        "\n",
        "print(f\"Shape of X (inputs): {X.shape} (Number of sequences, Sequence length)\")\n",
        "print(f\"Shape of y (outputs): {y.shape} (Number of sequences, Vocabulary size)\")\n",
        "print(\"Data preprocessing complete!\")\n",
        "\n",
        "# You're now ready to define and train the LSTM model in the next cells.\n",
        "# ... (rest of Colab Cell 1 code) ...\n",
        "\n",
        "print(\"Data preprocessing complete!\")\n",
        "\n",
        "# --- ADD THESE TWO LINES FOR DEBUGGING ---\n",
        "print(f\"DEBUG: X.shape before model definition: {X.shape}\")\n",
        "print(f\"DEBUG: X.dtype before model definition: {X.dtype}\")\n",
        "# --- END DEBUG LINES ---"
      ],
      "metadata": {
        "colab": {
          "base_uri": "https://localhost:8080/"
        },
        "id": "fi-FnDP-4Aiy",
        "outputId": "8bc48d3c-9be0-421a-a500-d43998bf071d"
      },
      "execution_count": null,
      "outputs": [
        {
          "output_type": "stream",
          "name": "stdout",
          "text": [
            "TensorFlow version: 2.18.0\n",
            "Successfully loaded text from 'tinyshakespeare.txt'. Length: 5314 characters.\n",
            "\n",
            "Cleaning text...\n",
            "Cleaned text (first 500 chars): first citizen before we proceed any further, hear me speak. all speak, speak. first citizen you are all resolved rather to die than to famish? all resolved. resolved. first citizen first, you know caius marcius is chief enemy to the people. all we knowt, we knowt. first citizen let us kill him, and well have corn at our own price. ist a verdict? all no more talking ont let it be done away, away! second citizen one word, good citizens. first citizen we are accounted poor citizens, the patricians ...\n",
            "Cleaned text length: 5175 characters.\n",
            "\n",
            "Tokenizing words...\n",
            "Total unique words (vocabulary size): 401\n",
            "First 20 words as numbers: [5, 3, 133, 9, 74, 75, 134, 50, 76, 30, 16, 30, 30, 5, 3, 2, 27, 16, 51, 135]\n",
            "\n",
            "Creating training sequences...\n",
            "Number of raw sequences created: 887\n",
            "Shape of X (inputs): (887, 50) (Number of sequences, Sequence length)\n",
            "Shape of y (outputs): (887, 402) (Number of sequences, Vocabulary size)\n",
            "Data preprocessing complete!\n",
            "Data preprocessing complete!\n",
            "DEBUG: X.shape before model definition: (887, 50)\n",
            "DEBUG: X.dtype before model definition: int32\n"
          ]
        }
      ]
    },
    {
      "cell_type": "code",
      "source": [
        "# Colab Cell 2: Model Definition (LSTM) - REVISED FOR CUDA ERROR AND IMPORTERROR\n",
        "\n",
        "# Import necessary packages for this cell\n",
        "import tensorflow as tf\n",
        "from tensorflow.keras.models import Sequential\n",
        "from tensorflow.keras.layers import Input, Embedding, LSTM, Dense, Dropout, Bidirectional # Input moved here\n",
        "import numpy as np # Ensure numpy is imported\n",
        "\n",
        "print(\"\\nDefining the LSTM model architecture...\")\n",
        "\n",
        "# Check if a GPU is available and set memory growth (good practice to prevent fragmentation)\n",
        "gpus = tf.config.list_physical_devices('GPU')\n",
        "if gpus:\n",
        "    try:\n",
        "        # Currently, memory growth needs to be the same across GPUs\n",
        "        for gpu in gpus:\n",
        "            tf.config.experimental.set_memory_growth(gpu, True)\n",
        "        print(\"GPU is available and memory growth set.\")\n",
        "    except RuntimeError as e:\n",
        "        # Memory growth must be set at startup\n",
        "        print(e)\n",
        "else:\n",
        "    print(\"No GPU found. Model will run on CPU, which might be slower.\")\n",
        "\n",
        "model = Sequential()\n",
        "# Input layer explicitly defining the shape expected by the Embedding layer\n",
        "# X.shape[1] is the `sequence_length` which should be defined from Cell 1\n",
        "model.add(Input(shape=(X.shape[1],)))\n",
        "\n",
        "# Embedding Layer:\n",
        "# total_words: vocabulary size (+1 for padding)\n",
        "# 100: dimension of the embedding vector\n",
        "# input_length=X.shape[1]: The length of your input sequences (e.g., 50)\n",
        "model.add(Embedding(input_dim=total_words, output_dim=100, input_length=X.shape[1]))\n",
        "\n",
        "# Bidirectional LSTM Layer:\n",
        "model.add(Bidirectional(LSTM(150, return_sequences=True)))\n",
        "model.add(Dropout(0.2))\n",
        "\n",
        "# Second LSTM Layer\n",
        "model.add(LSTM(100))\n",
        "model.add(Dense(total_words, activation='softmax'))\n",
        "\n",
        "# Compile the model:\n",
        "model.compile(loss='categorical_crossentropy', optimizer='adam', metrics=['accuracy'])\n",
        "\n",
        "print(\"\\nModel Summary:\")\n",
        "model.summary()\n",
        "print(\"Model definition complete!\")"
      ],
      "metadata": {
        "colab": {
          "base_uri": "https://localhost:8080/",
          "height": 465
        },
        "id": "rB7QD_Ae56iX",
        "outputId": "ff9ceead-98e4-41cc-e343-6b91cd9f57ca"
      },
      "execution_count": null,
      "outputs": [
        {
          "output_type": "stream",
          "name": "stdout",
          "text": [
            "\n",
            "Defining the LSTM model architecture...\n",
            "GPU is available and memory growth set.\n"
          ]
        },
        {
          "output_type": "stream",
          "name": "stderr",
          "text": [
            "/usr/local/lib/python3.11/dist-packages/keras/src/layers/core/embedding.py:90: UserWarning: Argument `input_length` is deprecated. Just remove it.\n",
            "  warnings.warn(\n"
          ]
        },
        {
          "output_type": "stream",
          "name": "stdout",
          "text": [
            "\n",
            "Model Summary:\n"
          ]
        },
        {
          "output_type": "display_data",
          "data": {
            "text/plain": [
              "\u001b[1mModel: \"sequential\"\u001b[0m\n"
            ],
            "text/html": [
              "<pre style=\"white-space:pre;overflow-x:auto;line-height:normal;font-family:Menlo,'DejaVu Sans Mono',consolas,'Courier New',monospace\"><span style=\"font-weight: bold\">Model: \"sequential\"</span>\n",
              "</pre>\n"
            ]
          },
          "metadata": {}
        },
        {
          "output_type": "display_data",
          "data": {
            "text/plain": [
              "┏━━━━━━━━━━━━━━━━━━━━━━━━━━━━━━━━━┳━━━━━━━━━━━━━━━━━━━━━━━━┳━━━━━━━━━━━━━━━┓\n",
              "┃\u001b[1m \u001b[0m\u001b[1mLayer (type)                   \u001b[0m\u001b[1m \u001b[0m┃\u001b[1m \u001b[0m\u001b[1mOutput Shape          \u001b[0m\u001b[1m \u001b[0m┃\u001b[1m \u001b[0m\u001b[1m      Param #\u001b[0m\u001b[1m \u001b[0m┃\n",
              "┡━━━━━━━━━━━━━━━━━━━━━━━━━━━━━━━━━╇━━━━━━━━━━━━━━━━━━━━━━━━╇━━━━━━━━━━━━━━━┩\n",
              "│ embedding (\u001b[38;5;33mEmbedding\u001b[0m)           │ (\u001b[38;5;45mNone\u001b[0m, \u001b[38;5;34m50\u001b[0m, \u001b[38;5;34m100\u001b[0m)        │        \u001b[38;5;34m40,200\u001b[0m │\n",
              "├─────────────────────────────────┼────────────────────────┼───────────────┤\n",
              "│ bidirectional (\u001b[38;5;33mBidirectional\u001b[0m)   │ (\u001b[38;5;45mNone\u001b[0m, \u001b[38;5;34m50\u001b[0m, \u001b[38;5;34m300\u001b[0m)        │       \u001b[38;5;34m301,200\u001b[0m │\n",
              "├─────────────────────────────────┼────────────────────────┼───────────────┤\n",
              "│ dropout (\u001b[38;5;33mDropout\u001b[0m)               │ (\u001b[38;5;45mNone\u001b[0m, \u001b[38;5;34m50\u001b[0m, \u001b[38;5;34m300\u001b[0m)        │             \u001b[38;5;34m0\u001b[0m │\n",
              "├─────────────────────────────────┼────────────────────────┼───────────────┤\n",
              "│ lstm_1 (\u001b[38;5;33mLSTM\u001b[0m)                   │ (\u001b[38;5;45mNone\u001b[0m, \u001b[38;5;34m100\u001b[0m)            │       \u001b[38;5;34m160,400\u001b[0m │\n",
              "├─────────────────────────────────┼────────────────────────┼───────────────┤\n",
              "│ dense (\u001b[38;5;33mDense\u001b[0m)                   │ (\u001b[38;5;45mNone\u001b[0m, \u001b[38;5;34m402\u001b[0m)            │        \u001b[38;5;34m40,602\u001b[0m │\n",
              "└─────────────────────────────────┴────────────────────────┴───────────────┘\n"
            ],
            "text/html": [
              "<pre style=\"white-space:pre;overflow-x:auto;line-height:normal;font-family:Menlo,'DejaVu Sans Mono',consolas,'Courier New',monospace\">┏━━━━━━━━━━━━━━━━━━━━━━━━━━━━━━━━━┳━━━━━━━━━━━━━━━━━━━━━━━━┳━━━━━━━━━━━━━━━┓\n",
              "┃<span style=\"font-weight: bold\"> Layer (type)                    </span>┃<span style=\"font-weight: bold\"> Output Shape           </span>┃<span style=\"font-weight: bold\">       Param # </span>┃\n",
              "┡━━━━━━━━━━━━━━━━━━━━━━━━━━━━━━━━━╇━━━━━━━━━━━━━━━━━━━━━━━━╇━━━━━━━━━━━━━━━┩\n",
              "│ embedding (<span style=\"color: #0087ff; text-decoration-color: #0087ff\">Embedding</span>)           │ (<span style=\"color: #00d7ff; text-decoration-color: #00d7ff\">None</span>, <span style=\"color: #00af00; text-decoration-color: #00af00\">50</span>, <span style=\"color: #00af00; text-decoration-color: #00af00\">100</span>)        │        <span style=\"color: #00af00; text-decoration-color: #00af00\">40,200</span> │\n",
              "├─────────────────────────────────┼────────────────────────┼───────────────┤\n",
              "│ bidirectional (<span style=\"color: #0087ff; text-decoration-color: #0087ff\">Bidirectional</span>)   │ (<span style=\"color: #00d7ff; text-decoration-color: #00d7ff\">None</span>, <span style=\"color: #00af00; text-decoration-color: #00af00\">50</span>, <span style=\"color: #00af00; text-decoration-color: #00af00\">300</span>)        │       <span style=\"color: #00af00; text-decoration-color: #00af00\">301,200</span> │\n",
              "├─────────────────────────────────┼────────────────────────┼───────────────┤\n",
              "│ dropout (<span style=\"color: #0087ff; text-decoration-color: #0087ff\">Dropout</span>)               │ (<span style=\"color: #00d7ff; text-decoration-color: #00d7ff\">None</span>, <span style=\"color: #00af00; text-decoration-color: #00af00\">50</span>, <span style=\"color: #00af00; text-decoration-color: #00af00\">300</span>)        │             <span style=\"color: #00af00; text-decoration-color: #00af00\">0</span> │\n",
              "├─────────────────────────────────┼────────────────────────┼───────────────┤\n",
              "│ lstm_1 (<span style=\"color: #0087ff; text-decoration-color: #0087ff\">LSTM</span>)                   │ (<span style=\"color: #00d7ff; text-decoration-color: #00d7ff\">None</span>, <span style=\"color: #00af00; text-decoration-color: #00af00\">100</span>)            │       <span style=\"color: #00af00; text-decoration-color: #00af00\">160,400</span> │\n",
              "├─────────────────────────────────┼────────────────────────┼───────────────┤\n",
              "│ dense (<span style=\"color: #0087ff; text-decoration-color: #0087ff\">Dense</span>)                   │ (<span style=\"color: #00d7ff; text-decoration-color: #00d7ff\">None</span>, <span style=\"color: #00af00; text-decoration-color: #00af00\">402</span>)            │        <span style=\"color: #00af00; text-decoration-color: #00af00\">40,602</span> │\n",
              "└─────────────────────────────────┴────────────────────────┴───────────────┘\n",
              "</pre>\n"
            ]
          },
          "metadata": {}
        },
        {
          "output_type": "display_data",
          "data": {
            "text/plain": [
              "\u001b[1m Total params: \u001b[0m\u001b[38;5;34m542,402\u001b[0m (2.07 MB)\n"
            ],
            "text/html": [
              "<pre style=\"white-space:pre;overflow-x:auto;line-height:normal;font-family:Menlo,'DejaVu Sans Mono',consolas,'Courier New',monospace\"><span style=\"font-weight: bold\"> Total params: </span><span style=\"color: #00af00; text-decoration-color: #00af00\">542,402</span> (2.07 MB)\n",
              "</pre>\n"
            ]
          },
          "metadata": {}
        },
        {
          "output_type": "display_data",
          "data": {
            "text/plain": [
              "\u001b[1m Trainable params: \u001b[0m\u001b[38;5;34m542,402\u001b[0m (2.07 MB)\n"
            ],
            "text/html": [
              "<pre style=\"white-space:pre;overflow-x:auto;line-height:normal;font-family:Menlo,'DejaVu Sans Mono',consolas,'Courier New',monospace\"><span style=\"font-weight: bold\"> Trainable params: </span><span style=\"color: #00af00; text-decoration-color: #00af00\">542,402</span> (2.07 MB)\n",
              "</pre>\n"
            ]
          },
          "metadata": {}
        },
        {
          "output_type": "display_data",
          "data": {
            "text/plain": [
              "\u001b[1m Non-trainable params: \u001b[0m\u001b[38;5;34m0\u001b[0m (0.00 B)\n"
            ],
            "text/html": [
              "<pre style=\"white-space:pre;overflow-x:auto;line-height:normal;font-family:Menlo,'DejaVu Sans Mono',consolas,'Courier New',monospace\"><span style=\"font-weight: bold\"> Non-trainable params: </span><span style=\"color: #00af00; text-decoration-color: #00af00\">0</span> (0.00 B)\n",
              "</pre>\n"
            ]
          },
          "metadata": {}
        },
        {
          "output_type": "stream",
          "name": "stdout",
          "text": [
            "Model definition complete!\n"
          ]
        }
      ]
    },
    {
      "cell_type": "code",
      "source": [
        "# Colab Cell 2: Model Definition (LSTM) - FORCE NON-CUDNN VERSION FIX\n",
        "\n",
        "# Import necessary packages for this cell\n",
        "import tensorflow as tf\n",
        "from tensorflow.keras.models import Sequential\n",
        "from tensorflow.keras.layers import Input, Embedding, LSTM, Dense, Dropout, Bidirectional\n",
        "import numpy as np\n",
        "\n",
        "print(\"\\nDefining the LSTM model architecture (forcing non-CuDNN LSTM)...\")\n",
        "\n",
        "# Check if a GPU is available (optional, but good to know)\n",
        "gpus = tf.config.list_physical_devices('GPU')\n",
        "if gpus:\n",
        "    try:\n",
        "        for gpu in gpus:\n",
        "            tf.config.experimental.set_memory_growth(gpu, True)\n",
        "        print(\"GPU is available and memory growth set.\")\n",
        "        print(\"Note: Forcing non-CuDNN LSTM due to previous error. Training might be slightly slower.\")\n",
        "    except RuntimeError as e:\n",
        "        print(e)\n",
        "else:\n",
        "    print(\"No GPU found. Model will run on CPU.\")\n",
        "\n",
        "model = Sequential()\n",
        "# Input layer explicitly defining the shape expected by the Embedding layer\n",
        "# X.shape[1] is the `sequence_length` which should be defined from Cell 1\n",
        "model.add(Input(shape=(X.shape[1],)))\n",
        "\n",
        "# Embedding Layer:\n",
        "model.add(Embedding(input_dim=total_words, output_dim=100, input_length=X.shape[1]))\n",
        "\n",
        "# Bidirectional LSTM Layer:\n",
        "# KEY FIX: Setting `recurrent_dropout > 0` (even a small value like 0.1)\n",
        "# forces TensorFlow to use the general (non-CuDNN) LSTM implementation,\n",
        "# which is more robust against these shape/type errors.\n",
        "model.add(Bidirectional(LSTM(150, return_sequences=True, recurrent_dropout=0.1))) # ADDED recurrent_dropout\n",
        "model.add(Dropout(0.2))\n",
        "\n",
        "# Second LSTM Layer (also force non-CuDNN)\n",
        "model.add(LSTM(100, recurrent_dropout=0.1)) # ADDED recurrent_dropout\n",
        "model.add(Dense(total_words, activation='softmax'))\n",
        "\n",
        "# Compile the model:\n",
        "model.compile(loss='categorical_crossentropy', optimizer='adam', metrics=['accuracy'])\n",
        "\n",
        "print(\"\\nModel Summary:\")\n",
        "model.summary()\n",
        "print(\"Model definition complete!\")"
      ],
      "metadata": {
        "colab": {
          "base_uri": "https://localhost:8080/",
          "height": 428
        },
        "id": "8uwlLTxX6iqZ",
        "outputId": "cec03aa4-ce6b-4e62-9520-c34ab0ef8ce0"
      },
      "execution_count": null,
      "outputs": [
        {
          "output_type": "stream",
          "name": "stdout",
          "text": [
            "\n",
            "Defining the LSTM model architecture (forcing non-CuDNN LSTM)...\n",
            "GPU is available and memory growth set.\n",
            "Note: Forcing non-CuDNN LSTM due to previous error. Training might be slightly slower.\n",
            "\n",
            "Model Summary:\n"
          ]
        },
        {
          "output_type": "display_data",
          "data": {
            "text/plain": [
              "\u001b[1mModel: \"sequential_1\"\u001b[0m\n"
            ],
            "text/html": [
              "<pre style=\"white-space:pre;overflow-x:auto;line-height:normal;font-family:Menlo,'DejaVu Sans Mono',consolas,'Courier New',monospace\"><span style=\"font-weight: bold\">Model: \"sequential_1\"</span>\n",
              "</pre>\n"
            ]
          },
          "metadata": {}
        },
        {
          "output_type": "display_data",
          "data": {
            "text/plain": [
              "┏━━━━━━━━━━━━━━━━━━━━━━━━━━━━━━━━━┳━━━━━━━━━━━━━━━━━━━━━━━━┳━━━━━━━━━━━━━━━┓\n",
              "┃\u001b[1m \u001b[0m\u001b[1mLayer (type)                   \u001b[0m\u001b[1m \u001b[0m┃\u001b[1m \u001b[0m\u001b[1mOutput Shape          \u001b[0m\u001b[1m \u001b[0m┃\u001b[1m \u001b[0m\u001b[1m      Param #\u001b[0m\u001b[1m \u001b[0m┃\n",
              "┡━━━━━━━━━━━━━━━━━━━━━━━━━━━━━━━━━╇━━━━━━━━━━━━━━━━━━━━━━━━╇━━━━━━━━━━━━━━━┩\n",
              "│ embedding_1 (\u001b[38;5;33mEmbedding\u001b[0m)         │ (\u001b[38;5;45mNone\u001b[0m, \u001b[38;5;34m50\u001b[0m, \u001b[38;5;34m100\u001b[0m)        │        \u001b[38;5;34m40,200\u001b[0m │\n",
              "├─────────────────────────────────┼────────────────────────┼───────────────┤\n",
              "│ bidirectional_1 (\u001b[38;5;33mBidirectional\u001b[0m) │ (\u001b[38;5;45mNone\u001b[0m, \u001b[38;5;34m50\u001b[0m, \u001b[38;5;34m300\u001b[0m)        │       \u001b[38;5;34m301,200\u001b[0m │\n",
              "├─────────────────────────────────┼────────────────────────┼───────────────┤\n",
              "│ dropout_1 (\u001b[38;5;33mDropout\u001b[0m)             │ (\u001b[38;5;45mNone\u001b[0m, \u001b[38;5;34m50\u001b[0m, \u001b[38;5;34m300\u001b[0m)        │             \u001b[38;5;34m0\u001b[0m │\n",
              "├─────────────────────────────────┼────────────────────────┼───────────────┤\n",
              "│ lstm_3 (\u001b[38;5;33mLSTM\u001b[0m)                   │ (\u001b[38;5;45mNone\u001b[0m, \u001b[38;5;34m100\u001b[0m)            │       \u001b[38;5;34m160,400\u001b[0m │\n",
              "├─────────────────────────────────┼────────────────────────┼───────────────┤\n",
              "│ dense_1 (\u001b[38;5;33mDense\u001b[0m)                 │ (\u001b[38;5;45mNone\u001b[0m, \u001b[38;5;34m402\u001b[0m)            │        \u001b[38;5;34m40,602\u001b[0m │\n",
              "└─────────────────────────────────┴────────────────────────┴───────────────┘\n"
            ],
            "text/html": [
              "<pre style=\"white-space:pre;overflow-x:auto;line-height:normal;font-family:Menlo,'DejaVu Sans Mono',consolas,'Courier New',monospace\">┏━━━━━━━━━━━━━━━━━━━━━━━━━━━━━━━━━┳━━━━━━━━━━━━━━━━━━━━━━━━┳━━━━━━━━━━━━━━━┓\n",
              "┃<span style=\"font-weight: bold\"> Layer (type)                    </span>┃<span style=\"font-weight: bold\"> Output Shape           </span>┃<span style=\"font-weight: bold\">       Param # </span>┃\n",
              "┡━━━━━━━━━━━━━━━━━━━━━━━━━━━━━━━━━╇━━━━━━━━━━━━━━━━━━━━━━━━╇━━━━━━━━━━━━━━━┩\n",
              "│ embedding_1 (<span style=\"color: #0087ff; text-decoration-color: #0087ff\">Embedding</span>)         │ (<span style=\"color: #00d7ff; text-decoration-color: #00d7ff\">None</span>, <span style=\"color: #00af00; text-decoration-color: #00af00\">50</span>, <span style=\"color: #00af00; text-decoration-color: #00af00\">100</span>)        │        <span style=\"color: #00af00; text-decoration-color: #00af00\">40,200</span> │\n",
              "├─────────────────────────────────┼────────────────────────┼───────────────┤\n",
              "│ bidirectional_1 (<span style=\"color: #0087ff; text-decoration-color: #0087ff\">Bidirectional</span>) │ (<span style=\"color: #00d7ff; text-decoration-color: #00d7ff\">None</span>, <span style=\"color: #00af00; text-decoration-color: #00af00\">50</span>, <span style=\"color: #00af00; text-decoration-color: #00af00\">300</span>)        │       <span style=\"color: #00af00; text-decoration-color: #00af00\">301,200</span> │\n",
              "├─────────────────────────────────┼────────────────────────┼───────────────┤\n",
              "│ dropout_1 (<span style=\"color: #0087ff; text-decoration-color: #0087ff\">Dropout</span>)             │ (<span style=\"color: #00d7ff; text-decoration-color: #00d7ff\">None</span>, <span style=\"color: #00af00; text-decoration-color: #00af00\">50</span>, <span style=\"color: #00af00; text-decoration-color: #00af00\">300</span>)        │             <span style=\"color: #00af00; text-decoration-color: #00af00\">0</span> │\n",
              "├─────────────────────────────────┼────────────────────────┼───────────────┤\n",
              "│ lstm_3 (<span style=\"color: #0087ff; text-decoration-color: #0087ff\">LSTM</span>)                   │ (<span style=\"color: #00d7ff; text-decoration-color: #00d7ff\">None</span>, <span style=\"color: #00af00; text-decoration-color: #00af00\">100</span>)            │       <span style=\"color: #00af00; text-decoration-color: #00af00\">160,400</span> │\n",
              "├─────────────────────────────────┼────────────────────────┼───────────────┤\n",
              "│ dense_1 (<span style=\"color: #0087ff; text-decoration-color: #0087ff\">Dense</span>)                 │ (<span style=\"color: #00d7ff; text-decoration-color: #00d7ff\">None</span>, <span style=\"color: #00af00; text-decoration-color: #00af00\">402</span>)            │        <span style=\"color: #00af00; text-decoration-color: #00af00\">40,602</span> │\n",
              "└─────────────────────────────────┴────────────────────────┴───────────────┘\n",
              "</pre>\n"
            ]
          },
          "metadata": {}
        },
        {
          "output_type": "display_data",
          "data": {
            "text/plain": [
              "\u001b[1m Total params: \u001b[0m\u001b[38;5;34m542,402\u001b[0m (2.07 MB)\n"
            ],
            "text/html": [
              "<pre style=\"white-space:pre;overflow-x:auto;line-height:normal;font-family:Menlo,'DejaVu Sans Mono',consolas,'Courier New',monospace\"><span style=\"font-weight: bold\"> Total params: </span><span style=\"color: #00af00; text-decoration-color: #00af00\">542,402</span> (2.07 MB)\n",
              "</pre>\n"
            ]
          },
          "metadata": {}
        },
        {
          "output_type": "display_data",
          "data": {
            "text/plain": [
              "\u001b[1m Trainable params: \u001b[0m\u001b[38;5;34m542,402\u001b[0m (2.07 MB)\n"
            ],
            "text/html": [
              "<pre style=\"white-space:pre;overflow-x:auto;line-height:normal;font-family:Menlo,'DejaVu Sans Mono',consolas,'Courier New',monospace\"><span style=\"font-weight: bold\"> Trainable params: </span><span style=\"color: #00af00; text-decoration-color: #00af00\">542,402</span> (2.07 MB)\n",
              "</pre>\n"
            ]
          },
          "metadata": {}
        },
        {
          "output_type": "display_data",
          "data": {
            "text/plain": [
              "\u001b[1m Non-trainable params: \u001b[0m\u001b[38;5;34m0\u001b[0m (0.00 B)\n"
            ],
            "text/html": [
              "<pre style=\"white-space:pre;overflow-x:auto;line-height:normal;font-family:Menlo,'DejaVu Sans Mono',consolas,'Courier New',monospace\"><span style=\"font-weight: bold\"> Non-trainable params: </span><span style=\"color: #00af00; text-decoration-color: #00af00\">0</span> (0.00 B)\n",
              "</pre>\n"
            ]
          },
          "metadata": {}
        },
        {
          "output_type": "stream",
          "name": "stdout",
          "text": [
            "Model definition complete!\n"
          ]
        }
      ]
    },
    {
      "cell_type": "code",
      "source": [
        "# Colab Cell 3: Model Training (LSTM)\n",
        "\n",
        "print(\"\\nStarting model training...\")\n",
        "\n",
        "# Define the number of epochs (how many times the model sees the entire dataset)\n",
        "# For larger datasets, this might take a long time. Start with fewer epochs (e.g., 20)\n",
        "# and increase if your accuracy isn't improving.\n",
        "num_epochs = 50 # You might need to adjust this (e.g., 20, 50, 100, or more)\n",
        "\n",
        "# batch_size: number of samples per gradient update. Adjust based on GPU memory.\n",
        "# Smaller batch sizes are less memory intensive.\n",
        "batch_size = 64 # Common values: 32, 64, 128, 256\n",
        "\n",
        "history = model.fit(\n",
        "    X,\n",
        "    y,\n",
        "    epochs=num_epochs,\n",
        "    batch_size=batch_size,\n",
        "    verbose=1 # Show progress during training\n",
        ")\n",
        "\n",
        "print(\"\\nModel training finished!\")\n",
        "\n",
        "# Optional: Plot training history to see loss and accuracy over epochs\n",
        "import matplotlib.pyplot as plt\n",
        "\n",
        "plt.figure(figsize=(12, 5))\n",
        "\n",
        "# Plot training loss\n",
        "plt.subplot(1, 2, 1)\n",
        "plt.plot(history.history['loss'], label='Loss')\n",
        "plt.title('Model Loss Over Epochs')\n",
        "plt.xlabel('Epoch')\n",
        "plt.ylabel('Loss')\n",
        "plt.legend()\n",
        "\n",
        "# Plot training accuracy\n",
        "plt.subplot(1, 2, 2)\n",
        "plt.plot(history.history['accuracy'], label='Accuracy')\n",
        "plt.title('Model Accuracy Over Epochs')\n",
        "plt.xlabel('Epoch')\n",
        "plt.ylabel('Accuracy')\n",
        "plt.legend()\n",
        "\n",
        "plt.tight_layout()\n",
        "plt.show()\n",
        "\n",
        "# You're now ready to generate text in the next cell."
      ],
      "metadata": {
        "colab": {
          "base_uri": "https://localhost:8080/",
          "height": 1000
        },
        "id": "KkRUzfSi6t6s",
        "outputId": "7e64115d-30d6-47f9-f6e2-780ec681e89a"
      },
      "execution_count": null,
      "outputs": [
        {
          "output_type": "stream",
          "name": "stdout",
          "text": [
            "\n",
            "Starting model training...\n",
            "Epoch 1/50\n",
            "\u001b[1m14/14\u001b[0m \u001b[32m━━━━━━━━━━━━━━━━━━━━\u001b[0m\u001b[37m\u001b[0m \u001b[1m16s\u001b[0m 476ms/step - accuracy: 0.0323 - loss: 5.9857\n",
            "Epoch 2/50\n",
            "\u001b[1m14/14\u001b[0m \u001b[32m━━━━━━━━━━━━━━━━━━━━\u001b[0m\u001b[37m\u001b[0m \u001b[1m7s\u001b[0m 406ms/step - accuracy: 0.0562 - loss: 5.6497\n",
            "Epoch 3/50\n",
            "\u001b[1m14/14\u001b[0m \u001b[32m━━━━━━━━━━━━━━━━━━━━\u001b[0m\u001b[37m\u001b[0m \u001b[1m10s\u001b[0m 355ms/step - accuracy: 0.0452 - loss: 5.5267\n",
            "Epoch 4/50\n",
            "\u001b[1m14/14\u001b[0m \u001b[32m━━━━━━━━━━━━━━━━━━━━\u001b[0m\u001b[37m\u001b[0m \u001b[1m7s\u001b[0m 476ms/step - accuracy: 0.0581 - loss: 5.4244\n",
            "Epoch 5/50\n",
            "\u001b[1m14/14\u001b[0m \u001b[32m━━━━━━━━━━━━━━━━━━━━\u001b[0m\u001b[37m\u001b[0m \u001b[1m9s\u001b[0m 355ms/step - accuracy: 0.0559 - loss: 5.3917\n",
            "Epoch 6/50\n",
            "\u001b[1m14/14\u001b[0m \u001b[32m━━━━━━━━━━━━━━━━━━━━\u001b[0m\u001b[37m\u001b[0m \u001b[1m7s\u001b[0m 480ms/step - accuracy: 0.0494 - loss: 5.4025\n",
            "Epoch 7/50\n",
            "\u001b[1m14/14\u001b[0m \u001b[32m━━━━━━━━━━━━━━━━━━━━\u001b[0m\u001b[37m\u001b[0m \u001b[1m10s\u001b[0m 483ms/step - accuracy: 0.0680 - loss: 5.3515\n",
            "Epoch 8/50\n",
            "\u001b[1m14/14\u001b[0m \u001b[32m━━━━━━━━━━━━━━━━━━━━\u001b[0m\u001b[37m\u001b[0m \u001b[1m5s\u001b[0m 359ms/step - accuracy: 0.0548 - loss: 5.4546\n",
            "Epoch 9/50\n",
            "\u001b[1m14/14\u001b[0m \u001b[32m━━━━━━━━━━━━━━━━━━━━\u001b[0m\u001b[37m\u001b[0m \u001b[1m5s\u001b[0m 371ms/step - accuracy: 0.0622 - loss: 5.3815\n",
            "Epoch 10/50\n",
            "\u001b[1m14/14\u001b[0m \u001b[32m━━━━━━━━━━━━━━━━━━━━\u001b[0m\u001b[37m\u001b[0m \u001b[1m10s\u001b[0m 365ms/step - accuracy: 0.0599 - loss: 5.3789\n",
            "Epoch 11/50\n",
            "\u001b[1m14/14\u001b[0m \u001b[32m━━━━━━━━━━━━━━━━━━━━\u001b[0m\u001b[37m\u001b[0m \u001b[1m7s\u001b[0m 490ms/step - accuracy: 0.0779 - loss: 5.2902\n",
            "Epoch 12/50\n",
            "\u001b[1m14/14\u001b[0m \u001b[32m━━━━━━━━━━━━━━━━━━━━\u001b[0m\u001b[37m\u001b[0m \u001b[1m9s\u001b[0m 402ms/step - accuracy: 0.0824 - loss: 5.2015\n",
            "Epoch 13/50\n",
            "\u001b[1m14/14\u001b[0m \u001b[32m━━━━━━━━━━━━━━━━━━━━\u001b[0m\u001b[37m\u001b[0m \u001b[1m6s\u001b[0m 423ms/step - accuracy: 0.0796 - loss: 5.1110\n",
            "Epoch 14/50\n",
            "\u001b[1m14/14\u001b[0m \u001b[32m━━━━━━━━━━━━━━━━━━━━\u001b[0m\u001b[37m\u001b[0m \u001b[1m11s\u001b[0m 486ms/step - accuracy: 0.0827 - loss: 4.9798\n",
            "Epoch 15/50\n",
            "\u001b[1m14/14\u001b[0m \u001b[32m━━━━━━━━━━━━━━━━━━━━\u001b[0m\u001b[37m\u001b[0m \u001b[1m5s\u001b[0m 356ms/step - accuracy: 0.0832 - loss: 4.8738\n",
            "Epoch 16/50\n",
            "\u001b[1m14/14\u001b[0m \u001b[32m━━━━━━━━━━━━━━━━━━━━\u001b[0m\u001b[37m\u001b[0m \u001b[1m6s\u001b[0m 451ms/step - accuracy: 0.0850 - loss: 4.7507\n",
            "Epoch 17/50\n",
            "\u001b[1m14/14\u001b[0m \u001b[32m━━━━━━━━━━━━━━━━━━━━\u001b[0m\u001b[37m\u001b[0m \u001b[1m9s\u001b[0m 356ms/step - accuracy: 0.0785 - loss: 4.7725\n",
            "Epoch 18/50\n",
            "\u001b[1m14/14\u001b[0m \u001b[32m━━━━━━━━━━━━━━━━━━━━\u001b[0m\u001b[37m\u001b[0m \u001b[1m7s\u001b[0m 481ms/step - accuracy: 0.0958 - loss: 4.7096\n",
            "Epoch 19/50\n",
            "\u001b[1m14/14\u001b[0m \u001b[32m━━━━━━━━━━━━━━━━━━━━\u001b[0m\u001b[37m\u001b[0m \u001b[1m9s\u001b[0m 397ms/step - accuracy: 0.0803 - loss: 4.6613\n",
            "Epoch 20/50\n",
            "\u001b[1m14/14\u001b[0m \u001b[32m━━━━━━━━━━━━━━━━━━━━\u001b[0m\u001b[37m\u001b[0m \u001b[1m10s\u001b[0m 353ms/step - accuracy: 0.0999 - loss: 4.5794\n",
            "Epoch 21/50\n",
            "\u001b[1m14/14\u001b[0m \u001b[32m━━━━━━━━━━━━━━━━━━━━\u001b[0m\u001b[37m\u001b[0m \u001b[1m7s\u001b[0m 476ms/step - accuracy: 0.0949 - loss: 4.5064\n",
            "Epoch 22/50\n",
            "\u001b[1m14/14\u001b[0m \u001b[32m━━━━━━━━━━━━━━━━━━━━\u001b[0m\u001b[37m\u001b[0m \u001b[1m9s\u001b[0m 411ms/step - accuracy: 0.0931 - loss: 4.4932\n",
            "Epoch 23/50\n",
            "\u001b[1m14/14\u001b[0m \u001b[32m━━━━━━━━━━━━━━━━━━━━\u001b[0m\u001b[37m\u001b[0m \u001b[1m10s\u001b[0m 361ms/step - accuracy: 0.0936 - loss: 4.4400\n",
            "Epoch 24/50\n",
            "\u001b[1m14/14\u001b[0m \u001b[32m━━━━━━━━━━━━━━━━━━━━\u001b[0m\u001b[37m\u001b[0m \u001b[1m6s\u001b[0m 470ms/step - accuracy: 0.1170 - loss: 4.3017\n",
            "Epoch 25/50\n",
            "\u001b[1m14/14\u001b[0m \u001b[32m━━━━━━━━━━━━━━━━━━━━\u001b[0m\u001b[37m\u001b[0m \u001b[1m9s\u001b[0m 381ms/step - accuracy: 0.1237 - loss: 4.2908\n",
            "Epoch 26/50\n",
            "\u001b[1m14/14\u001b[0m \u001b[32m━━━━━━━━━━━━━━━━━━━━\u001b[0m\u001b[37m\u001b[0m \u001b[1m10s\u001b[0m 358ms/step - accuracy: 0.1422 - loss: 4.1920\n",
            "Epoch 27/50\n",
            "\u001b[1m14/14\u001b[0m \u001b[32m━━━━━━━━━━━━━━━━━━━━\u001b[0m\u001b[37m\u001b[0m \u001b[1m7s\u001b[0m 476ms/step - accuracy: 0.1363 - loss: 4.2653\n",
            "Epoch 28/50\n",
            "\u001b[1m14/14\u001b[0m \u001b[32m━━━━━━━━━━━━━━━━━━━━\u001b[0m\u001b[37m\u001b[0m \u001b[1m9s\u001b[0m 379ms/step - accuracy: 0.1337 - loss: 4.1783\n",
            "Epoch 29/50\n",
            "\u001b[1m14/14\u001b[0m \u001b[32m━━━━━━━━━━━━━━━━━━━━\u001b[0m\u001b[37m\u001b[0m \u001b[1m10s\u001b[0m 357ms/step - accuracy: 0.1367 - loss: 4.1039\n",
            "Epoch 30/50\n",
            "\u001b[1m14/14\u001b[0m \u001b[32m━━━━━━━━━━━━━━━━━━━━\u001b[0m\u001b[37m\u001b[0m \u001b[1m7s\u001b[0m 478ms/step - accuracy: 0.1255 - loss: 4.1439\n",
            "Epoch 31/50\n",
            "\u001b[1m14/14\u001b[0m \u001b[32m━━━━━━━━━━━━━━━━━━━━\u001b[0m\u001b[37m\u001b[0m \u001b[1m9s\u001b[0m 387ms/step - accuracy: 0.1559 - loss: 4.0195\n",
            "Epoch 32/50\n",
            "\u001b[1m14/14\u001b[0m \u001b[32m━━━━━━━━━━━━━━━━━━━━\u001b[0m\u001b[37m\u001b[0m \u001b[1m10s\u001b[0m 362ms/step - accuracy: 0.1478 - loss: 3.9963\n",
            "Epoch 33/50\n",
            "\u001b[1m14/14\u001b[0m \u001b[32m━━━━━━━━━━━━━━━━━━━━\u001b[0m\u001b[37m\u001b[0m \u001b[1m7s\u001b[0m 480ms/step - accuracy: 0.1736 - loss: 3.9835\n",
            "Epoch 34/50\n",
            "\u001b[1m14/14\u001b[0m \u001b[32m━━━━━━━━━━━━━━━━━━━━\u001b[0m\u001b[37m\u001b[0m \u001b[1m9s\u001b[0m 383ms/step - accuracy: 0.1441 - loss: 3.9667\n",
            "Epoch 35/50\n",
            "\u001b[1m14/14\u001b[0m \u001b[32m━━━━━━━━━━━━━━━━━━━━\u001b[0m\u001b[37m\u001b[0m \u001b[1m6s\u001b[0m 431ms/step - accuracy: 0.1560 - loss: 3.9419\n",
            "Epoch 36/50\n",
            "\u001b[1m14/14\u001b[0m \u001b[32m━━━━━━━━━━━━━━━━━━━━\u001b[0m\u001b[37m\u001b[0m \u001b[1m11s\u001b[0m 482ms/step - accuracy: 0.1617 - loss: 3.8704\n",
            "Epoch 37/50\n",
            "\u001b[1m14/14\u001b[0m \u001b[32m━━━━━━━━━━━━━━━━━━━━\u001b[0m\u001b[37m\u001b[0m \u001b[1m9s\u001b[0m 354ms/step - accuracy: 0.1832 - loss: 3.7980\n",
            "Epoch 38/50\n",
            "\u001b[1m14/14\u001b[0m \u001b[32m━━━━━━━━━━━━━━━━━━━━\u001b[0m\u001b[37m\u001b[0m \u001b[1m7s\u001b[0m 471ms/step - accuracy: 0.1679 - loss: 3.8610\n",
            "Epoch 39/50\n",
            "\u001b[1m14/14\u001b[0m \u001b[32m━━━━━━━━━━━━━━━━━━━━\u001b[0m\u001b[37m\u001b[0m \u001b[1m10s\u001b[0m 456ms/step - accuracy: 0.1670 - loss: 3.8017\n",
            "Epoch 40/50\n",
            "\u001b[1m14/14\u001b[0m \u001b[32m━━━━━━━━━━━━━━━━━━━━\u001b[0m\u001b[37m\u001b[0m \u001b[1m9s\u001b[0m 354ms/step - accuracy: 0.1769 - loss: 3.7829\n",
            "Epoch 41/50\n",
            "\u001b[1m14/14\u001b[0m \u001b[32m━━━━━━━━━━━━━━━━━━━━\u001b[0m\u001b[37m\u001b[0m \u001b[1m7s\u001b[0m 481ms/step - accuracy: 0.1916 - loss: 3.6597\n",
            "Epoch 42/50\n",
            "\u001b[1m14/14\u001b[0m \u001b[32m━━━━━━━━━━━━━━━━━━━━\u001b[0m\u001b[37m\u001b[0m \u001b[1m9s\u001b[0m 409ms/step - accuracy: 0.2209 - loss: 3.5980\n",
            "Epoch 43/50\n",
            "\u001b[1m14/14\u001b[0m \u001b[32m━━━━━━━━━━━━━━━━━━━━\u001b[0m\u001b[37m\u001b[0m \u001b[1m6s\u001b[0m 397ms/step - accuracy: 0.2120 - loss: 3.6260\n",
            "Epoch 44/50\n",
            "\u001b[1m14/14\u001b[0m \u001b[32m━━━━━━━━━━━━━━━━━━━━\u001b[0m\u001b[37m\u001b[0m \u001b[1m5s\u001b[0m 356ms/step - accuracy: 0.2172 - loss: 3.5524\n",
            "Epoch 45/50\n",
            "\u001b[1m14/14\u001b[0m \u001b[32m━━━━━━━━━━━━━━━━━━━━\u001b[0m\u001b[37m\u001b[0m \u001b[1m7s\u001b[0m 482ms/step - accuracy: 0.2388 - loss: 3.4725\n",
            "Epoch 46/50\n",
            "\u001b[1m14/14\u001b[0m \u001b[32m━━━━━━━━━━━━━━━━━━━━\u001b[0m\u001b[37m\u001b[0m \u001b[1m10s\u001b[0m 435ms/step - accuracy: 0.2148 - loss: 3.5222\n",
            "Epoch 47/50\n",
            "\u001b[1m14/14\u001b[0m \u001b[32m━━━━━━━━━━━━━━━━━━━━\u001b[0m\u001b[37m\u001b[0m \u001b[1m9s\u001b[0m 358ms/step - accuracy: 0.2225 - loss: 3.4453\n",
            "Epoch 48/50\n",
            "\u001b[1m14/14\u001b[0m \u001b[32m━━━━━━━━━━━━━━━━━━━━\u001b[0m\u001b[37m\u001b[0m \u001b[1m7s\u001b[0m 476ms/step - accuracy: 0.2232 - loss: 3.4347\n",
            "Epoch 49/50\n",
            "\u001b[1m14/14\u001b[0m \u001b[32m━━━━━━━━━━━━━━━━━━━━\u001b[0m\u001b[37m\u001b[0m \u001b[1m5s\u001b[0m 355ms/step - accuracy: 0.2516 - loss: 3.3574\n",
            "Epoch 50/50\n",
            "\u001b[1m14/14\u001b[0m \u001b[32m━━━━━━━━━━━━━━━━━━━━\u001b[0m\u001b[37m\u001b[0m \u001b[1m7s\u001b[0m 473ms/step - accuracy: 0.2361 - loss: 3.3874\n",
            "\n",
            "Model training finished!\n"
          ]
        },
        {
          "output_type": "display_data",
          "data": {
            "text/plain": [
              "<Figure size 1200x500 with 2 Axes>"
            ],
            "image/png": "[encoded data removed]"
          },
          "metadata": {}
        }
      ]
    },
    {
      "cell_type": "code",
      "source": [
        "# Colab Cell 4: Text Generation (LSTM)\n",
        "\n",
        "print(\"\\nReady for Text Generation!\")\n",
        "\n",
        "def generate_text(seed_text, next_words_to_generate, model, max_sequence_len, tokenizer, id_to_word, temperature=1.0):\n",
        "    \"\"\"\n",
        "    Generates text using the trained LSTM model.\n",
        "\n",
        "    Args:\n",
        "        seed_text (str): The starting phrase for generation.\n",
        "        next_words_to_generate (int): The number of words to generate.\n",
        "        model (tf.keras.Model): The trained Keras model.\n",
        "        max_sequence_len (int): The fixed length of input sequences for the model.\n",
        "        tokenizer (tf.keras.preprocessing.text.Tokenizer): The tokenizer fitted on the training data.\n",
        "        id_to_word (dict): A dictionary mapping token IDs back to words.\n",
        "        temperature (float): Controls the randomness of prediction.\n",
        "                             Lower (e.g., 0.5) makes text more predictable/focused.\n",
        "                             Higher (e.g., 1.2) makes text more random/creative.\n",
        "    Returns:\n",
        "        str: The generated text.\n",
        "    \"\"\"\n",
        "    generated_text = seed_text.lower() # Start with lowercase seed for consistency\n",
        "\n",
        "    for _ in range(next_words_to_generate):\n",
        "        # Convert the current seed text to numbers\n",
        "        token_list = tokenizer.texts_to_sequences([generated_text])[0]\n",
        "\n",
        "        # If the seed text is shorter than the model's expected input, pad it.\n",
        "        # The model expects an input_length of X.shape[1]\n",
        "        token_list = pad_sequences([token_list], maxlen=max_sequence_len - 1, padding='pre')\n",
        "\n",
        "        # Get the model's predictions (probabilities for each possible next word)\n",
        "        # model.predict returns a batch, so take the first element [0]\n",
        "        predicted_probabilities = model.predict(token_list, verbose=0)[0]\n",
        "\n",
        "        # Apply \"temperature\" for creativity (sampling from a distribution)\n",
        "        # This helps to avoid always picking the most probable word, leading to more diverse text.\n",
        "        predicted_probabilities = np.asarray(predicted_probabilities).astype('float64')\n",
        "\n",
        "        # Avoid log(0) for extremely low probabilities by replacing them with a tiny value\n",
        "        predicted_probabilities = np.where(predicted_probabilities == 0, 1e-10, predicted_probabilities)\n",
        "\n",
        "        predicted_probabilities = np.log(predicted_probabilities) / temperature\n",
        "        exp_preds = np.exp(predicted_probabilities)\n",
        "        predicted_probabilities = exp_preds / np.sum(exp_preds)\n",
        "\n",
        "        # Pick the next word based on the (temperature-adjusted) probabilities\n",
        "        # np.random.choice allows sampling based on probabilities\n",
        "        predicted_word_id = np.random.choice(len(predicted_probabilities), p=predicted_probabilities)\n",
        "\n",
        "        output_word = id_to_word.get(predicted_word_id, \"\") # Use .get() to handle potential missing IDs\n",
        "\n",
        "        if output_word: # Only add if a word was found\n",
        "            generated_text += \" \" + output_word\n",
        "        else:\n",
        "            # If no word found for ID (should be rare with good vocabulary), break to prevent infinite loop\n",
        "            break\n",
        "\n",
        "    return generated_text\n",
        "\n",
        "# --- Experiment with different prompts and temperatures ---\n",
        "\n",
        "print(\"\\n--- Generated Text Example 1 ---\")\n",
        "# Choose a starting prompt. Make sure it's long enough to be meaningful to the model (e.g., 5-10 words)\n",
        "# The quality depends heavily on your dataset and training.\n",
        "seed1 = \"the quick brown fox jumps over the\" # Use lowercase for consistency\n",
        "generated1 = generate_text(seed1, 50, model, max_sequence_len, tokenizer, id_to_word, temperature=0.7)\n",
        "print(f\"Prompt: '{seed1}'\")\n",
        "print(f\"Generated: {generated1}\\n\")\n",
        "\n",
        "print(\"\\n--- Generated Text Example 2 ---\")\n",
        "seed2 = \"once upon a time in a faraway land there\"\n",
        "generated2 = generate_text(seed2, 70, model, max_sequence_len, tokenizer, id_to_word, temperature=1.0)\n",
        "print(f\"Prompt: '{seed2}'\")\n",
        "print(f\"Generated: {generated2}\\n\")\n",
        "\n",
        "print(\"\\n--- Generated Text Example 3 (more creative) ---\")\n",
        "seed3 = \"to be or not to be that is the question\" # A classic Shakespeare line!\n",
        "generated3 = generate_text(seed3, 60, model, max_sequence_len, tokenizer, id_to_word, temperature=1.2)\n",
        "print(f\"Prompt: '{seed3}'\")\n",
        "print(f\"Generated: {generated3}\\n\")\n",
        "\n",
        "print(\"Text generation complete!\")"
      ],
      "metadata": {
        "colab": {
          "base_uri": "https://localhost:8080/"
        },
        "id": "cB78Gll-8Zyg",
        "outputId": "febf19bd-0cd3-49d0-9494-e6ffa5eb4fd6"
      },
      "execution_count": null,
      "outputs": [
        {
          "output_type": "stream",
          "name": "stdout",
          "text": [
            "\n",
            "Ready for Text Generation!\n",
            "\n",
            "--- Generated Text Example 1 ---\n",
            "Prompt: 'the quick brown fox jumps over the'\n",
            "Generated: the quick brown fox jumps over the me even answerd for and virtue to the body as fellow soft disgrace menenius dearth the instruments of the belly that thus menenius like let not that menenius what all the shouts as were thus have good malign you good purpose in need first citizen well cannot the steed and\n",
            "\n",
            "\n",
            "--- Generated Text Example 2 ---\n",
            "Prompt: 'once upon a time in a faraway land there'\n",
            "Generated: once upon a time in a faraway land there either to capitol what the superfluity patricians as more had breaths as you thus make you malign he his their masters be smile may my my citizens you us menenius was not account you think the other charitable an belly eat the commonalty to the who they the way all them have repetition what it menenius and tell you more account first citizen what you ever asunder belly not neer\n",
            "\n",
            "\n",
            "--- Generated Text Example 3 (more creative) ---\n",
            "Prompt: 'to be or not to be that is the question'\n",
            "Generated: to be or not to be that is the question midst bats first citizen can may were in grain bear with if the poor ist other lungs thus edicts as i shall of but first the walk barren sir come he must him with what he senators your maliciously have suffer you a ist ever helps we wondrous honest if in alack the little idle your as your em countrymen\n",
            "\n",
            "Text generation complete!\n"
          ]
        }
      ]
    }
  ]
}